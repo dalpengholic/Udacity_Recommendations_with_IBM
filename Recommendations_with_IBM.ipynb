{
 "cells": [
  {
   "cell_type": "markdown",
   "metadata": {},
   "source": [
    "# Recommendations with IBM\n",
    "\n",
    "In this notebook, you will be putting your recommendation skills to use on real data from the IBM Watson Studio platform. \n",
    "\n",
    "\n",
    "You may either submit your notebook through the workspace here, or you may work from your local machine and submit through the next page.  Either way assure that your code passes the project [RUBRIC](https://review.udacity.com/#!/rubrics/2322/view).  **Please save regularly.**\n",
    "\n",
    "By following the table of contents, you will build out a number of different methods for making recommendations that can be used for different situations. \n",
    "\n",
    "\n",
    "## Table of Contents\n",
    "\n",
    "I. [Exploratory Data Analysis](#Exploratory-Data-Analysis)<br>\n",
    "II. [Rank Based Recommendations](#Rank)<br>\n",
    "III. [User-User Based Collaborative Filtering](#User-User)<br>\n",
    "IV. [Content Based Recommendations (EXTRA - NOT REQUIRED)](#Content-Recs)<br>\n",
    "V. [Matrix Factorization](#Matrix-Fact)<br>\n",
    "VI. [Extras & Concluding](#conclusions)\n",
    "\n",
    "At the end of the notebook, you will find directions for how to submit your work.  Let's get started by importing the necessary libraries and reading in the data."
   ]
  },
  {
   "cell_type": "code",
   "execution_count": 258,
   "metadata": {},
   "outputs": [
    {
     "data": {
      "application/javascript": [
       "IPython.notebook.set_autosave_interval(180000)"
      ]
     },
     "metadata": {},
     "output_type": "display_data"
    },
    {
     "name": "stdout",
     "output_type": "stream",
     "text": [
      "Autosaving every 180 seconds\n"
     ]
    },
    {
     "data": {
      "text/html": [
       "<div>\n",
       "<style scoped>\n",
       "    .dataframe tbody tr th:only-of-type {\n",
       "        vertical-align: middle;\n",
       "    }\n",
       "\n",
       "    .dataframe tbody tr th {\n",
       "        vertical-align: top;\n",
       "    }\n",
       "\n",
       "    .dataframe thead th {\n",
       "        text-align: right;\n",
       "    }\n",
       "</style>\n",
       "<table border=\"1\" class=\"dataframe\">\n",
       "  <thead>\n",
       "    <tr style=\"text-align: right;\">\n",
       "      <th></th>\n",
       "      <th>article_id</th>\n",
       "      <th>title</th>\n",
       "      <th>email</th>\n",
       "    </tr>\n",
       "  </thead>\n",
       "  <tbody>\n",
       "    <tr>\n",
       "      <th>0</th>\n",
       "      <td>1430.0</td>\n",
       "      <td>using pixiedust for fast, flexible, and easier...</td>\n",
       "      <td>ef5f11f77ba020cd36e1105a00ab868bbdbf7fe7</td>\n",
       "    </tr>\n",
       "    <tr>\n",
       "      <th>1</th>\n",
       "      <td>1314.0</td>\n",
       "      <td>healthcare python streaming application demo</td>\n",
       "      <td>083cbdfa93c8444beaa4c5f5e0f5f9198e4f9e0b</td>\n",
       "    </tr>\n",
       "    <tr>\n",
       "      <th>2</th>\n",
       "      <td>1429.0</td>\n",
       "      <td>use deep learning for image classification</td>\n",
       "      <td>b96a4f2e92d8572034b1e9b28f9ac673765cd074</td>\n",
       "    </tr>\n",
       "    <tr>\n",
       "      <th>3</th>\n",
       "      <td>1338.0</td>\n",
       "      <td>ml optimization using cognitive assistant</td>\n",
       "      <td>06485706b34a5c9bf2a0ecdac41daf7e7654ceb7</td>\n",
       "    </tr>\n",
       "    <tr>\n",
       "      <th>4</th>\n",
       "      <td>1276.0</td>\n",
       "      <td>deploy your python model as a restful api</td>\n",
       "      <td>f01220c46fc92c6e6b161b1849de11faacd7ccb2</td>\n",
       "    </tr>\n",
       "  </tbody>\n",
       "</table>\n",
       "</div>"
      ],
      "text/plain": [
       "   article_id                                              title  \\\n",
       "0      1430.0  using pixiedust for fast, flexible, and easier...   \n",
       "1      1314.0       healthcare python streaming application demo   \n",
       "2      1429.0         use deep learning for image classification   \n",
       "3      1338.0          ml optimization using cognitive assistant   \n",
       "4      1276.0          deploy your python model as a restful api   \n",
       "\n",
       "                                      email  \n",
       "0  ef5f11f77ba020cd36e1105a00ab868bbdbf7fe7  \n",
       "1  083cbdfa93c8444beaa4c5f5e0f5f9198e4f9e0b  \n",
       "2  b96a4f2e92d8572034b1e9b28f9ac673765cd074  \n",
       "3  06485706b34a5c9bf2a0ecdac41daf7e7654ceb7  \n",
       "4  f01220c46fc92c6e6b161b1849de11faacd7ccb2  "
      ]
     },
     "execution_count": 258,
     "metadata": {},
     "output_type": "execute_result"
    }
   ],
   "source": [
    "%autosave 180\n",
    "import pandas as pd\n",
    "import numpy as np\n",
    "import matplotlib.pyplot as plt\n",
    "import project_tests as t\n",
    "import pickle\n",
    "import seaborn as sns\n",
    "\n",
    "%matplotlib inline\n",
    "\n",
    "df = pd.read_csv('data/user-item-interactions.csv')\n",
    "df_content = pd.read_csv('data/articles_community.csv')\n",
    "del df['Unnamed: 0']\n",
    "del df_content['Unnamed: 0']\n",
    "\n",
    "# Show df to get an idea of the data\n",
    "df.head()"
   ]
  },
  {
   "cell_type": "code",
   "execution_count": 259,
   "metadata": {},
   "outputs": [
    {
     "data": {
      "text/html": [
       "<div>\n",
       "<style scoped>\n",
       "    .dataframe tbody tr th:only-of-type {\n",
       "        vertical-align: middle;\n",
       "    }\n",
       "\n",
       "    .dataframe tbody tr th {\n",
       "        vertical-align: top;\n",
       "    }\n",
       "\n",
       "    .dataframe thead th {\n",
       "        text-align: right;\n",
       "    }\n",
       "</style>\n",
       "<table border=\"1\" class=\"dataframe\">\n",
       "  <thead>\n",
       "    <tr style=\"text-align: right;\">\n",
       "      <th></th>\n",
       "      <th>doc_body</th>\n",
       "      <th>doc_description</th>\n",
       "      <th>doc_full_name</th>\n",
       "      <th>doc_status</th>\n",
       "      <th>article_id</th>\n",
       "    </tr>\n",
       "  </thead>\n",
       "  <tbody>\n",
       "    <tr>\n",
       "      <th>0</th>\n",
       "      <td>Skip navigation Sign in SearchLoading...\\r\\n\\r...</td>\n",
       "      <td>Detect bad readings in real time using Python ...</td>\n",
       "      <td>Detect Malfunctioning IoT Sensors with Streami...</td>\n",
       "      <td>Live</td>\n",
       "      <td>0</td>\n",
       "    </tr>\n",
       "    <tr>\n",
       "      <th>1</th>\n",
       "      <td>No Free Hunch Navigation * kaggle.com\\r\\n\\r\\n ...</td>\n",
       "      <td>See the forest, see the trees. Here lies the c...</td>\n",
       "      <td>Communicating data science: A guide to present...</td>\n",
       "      <td>Live</td>\n",
       "      <td>1</td>\n",
       "    </tr>\n",
       "    <tr>\n",
       "      <th>2</th>\n",
       "      <td>☰ * Login\\r\\n * Sign Up\\r\\n\\r\\n * Learning Pat...</td>\n",
       "      <td>Here’s this week’s news in Data Science and Bi...</td>\n",
       "      <td>This Week in Data Science (April 18, 2017)</td>\n",
       "      <td>Live</td>\n",
       "      <td>2</td>\n",
       "    </tr>\n",
       "    <tr>\n",
       "      <th>3</th>\n",
       "      <td>DATALAYER: HIGH THROUGHPUT, LOW LATENCY AT SCA...</td>\n",
       "      <td>Learn how distributed DBs solve the problem of...</td>\n",
       "      <td>DataLayer Conference: Boost the performance of...</td>\n",
       "      <td>Live</td>\n",
       "      <td>3</td>\n",
       "    </tr>\n",
       "    <tr>\n",
       "      <th>4</th>\n",
       "      <td>Skip navigation Sign in SearchLoading...\\r\\n\\r...</td>\n",
       "      <td>This video demonstrates the power of IBM DataS...</td>\n",
       "      <td>Analyze NY Restaurant data using Spark in DSX</td>\n",
       "      <td>Live</td>\n",
       "      <td>4</td>\n",
       "    </tr>\n",
       "  </tbody>\n",
       "</table>\n",
       "</div>"
      ],
      "text/plain": [
       "                                            doc_body  \\\n",
       "0  Skip navigation Sign in SearchLoading...\\r\\n\\r...   \n",
       "1  No Free Hunch Navigation * kaggle.com\\r\\n\\r\\n ...   \n",
       "2  ☰ * Login\\r\\n * Sign Up\\r\\n\\r\\n * Learning Pat...   \n",
       "3  DATALAYER: HIGH THROUGHPUT, LOW LATENCY AT SCA...   \n",
       "4  Skip navigation Sign in SearchLoading...\\r\\n\\r...   \n",
       "\n",
       "                                     doc_description  \\\n",
       "0  Detect bad readings in real time using Python ...   \n",
       "1  See the forest, see the trees. Here lies the c...   \n",
       "2  Here’s this week’s news in Data Science and Bi...   \n",
       "3  Learn how distributed DBs solve the problem of...   \n",
       "4  This video demonstrates the power of IBM DataS...   \n",
       "\n",
       "                                       doc_full_name doc_status  article_id  \n",
       "0  Detect Malfunctioning IoT Sensors with Streami...       Live           0  \n",
       "1  Communicating data science: A guide to present...       Live           1  \n",
       "2         This Week in Data Science (April 18, 2017)       Live           2  \n",
       "3  DataLayer Conference: Boost the performance of...       Live           3  \n",
       "4      Analyze NY Restaurant data using Spark in DSX       Live           4  "
      ]
     },
     "execution_count": 259,
     "metadata": {},
     "output_type": "execute_result"
    }
   ],
   "source": [
    "# Show df_content to get an idea of the data\n",
    "df_content.head()"
   ]
  },
  {
   "cell_type": "markdown",
   "metadata": {},
   "source": [
    "### <a class=\"anchor\" id=\"Exploratory-Data-Analysis\">Part I : Exploratory Data Analysis</a>\n",
    "\n",
    "Use the dictionary and cells below to provide some insight into the descriptive statistics of the data.\n",
    "\n",
    "`1.` What is the distribution of how many articles a user interacts with in the dataset?  Provide a visual and descriptive statistics to assist with giving a look at the number of times each user interacts with an article.  "
   ]
  },
  {
   "cell_type": "code",
   "execution_count": 260,
   "metadata": {},
   "outputs": [
    {
     "name": "stdout",
     "output_type": "stream",
     "text": [
      "Mean # article : 8.930846930846931\n",
      "Quantile 0.25 , 0.5, 0.75:  1.0 3.0 9.0\n"
     ]
    },
    {
     "data": {
      "text/plain": [
       "<matplotlib.axes._subplots.AxesSubplot at 0x1a2f8742e8>"
      ]
     },
     "execution_count": 260,
     "metadata": {},
     "output_type": "execute_result"
    },
    {
     "data": {
      "image/png": "[encoded data removed]",
      "text/plain": [
       "<Figure size 1152x360 with 2 Axes>"
      ]
     },
     "metadata": {
      "needs_background": "light"
     },
     "output_type": "display_data"
    }
   ],
   "source": [
    "# make a groupby instance and count how many articles were read by each user\n",
    "email_grouped_df = df.groupby('email')\n",
    "num_article_email = email_groruped_df['article_id'].count()\n",
    "print(\"Mean # article :\",num_article_email.mean())\n",
    "print(\"Quantile 0.25 , 0.5, 0.75: \" , num_article_email.quantile(0.25), num_article_email.quantile(0.5), num_article_email.quantile(0.75))\n",
    "# Draw histogram and boxplot using seaborn\n",
    "f, axes = plt.subplots(1, 2, figsize=(16,5))\n",
    "f.tight_layout()\n",
    "sns.set(style=\"white\", palette=\"muted\", color_codes=True)\n",
    "sns.set_context(\"notebook\")\n",
    "sns.set_style(\"darkgrid\")\n",
    "sns.distplot(num_article_email, rug=False, kde=False,  norm_hist=False, color='g', ax=axes[0])\n",
    "sns.boxplot(num_article_email, ax=axes[1])"
   ]
  },
  {
   "cell_type": "code",
   "execution_count": 261,
   "metadata": {},
   "outputs": [
    {
     "name": "stdout",
     "output_type": "stream",
     "text": [
      "50% of individuals interact with 3.0 number of articles or fewer.\n",
      "The maximum number of user-article interactions by any 1 user is364:\n"
     ]
    }
   ],
   "source": [
    "# Fill in the median and maximum number of user_article interactios below\n",
    "median_val =   num_article_email.median()\n",
    "max_views_by_user = num_article_email.max()\n",
    "print(\"50% of individuals interact with {} number of articles or fewer.\".format(median_val)) \n",
    "print(\"The maximum number of user-article interactions by any 1 user is{}:\".format(max_views_by_user))\n",
    "# 50% of individuals interact with ____ number of articles or fewer.\n",
    "# The maximum number of user-article interactions by any 1 user is ______."
   ]
  },
  {
   "cell_type": "markdown",
   "metadata": {},
   "source": [
    "`2.` Explore and remove duplicate articles from the **df_content** dataframe.  "
   ]
  },
  {
   "cell_type": "code",
   "execution_count": 262,
   "metadata": {},
   "outputs": [
    {
     "data": {
      "text/html": [
       "<div>\n",
       "<style scoped>\n",
       "    .dataframe tbody tr th:only-of-type {\n",
       "        vertical-align: middle;\n",
       "    }\n",
       "\n",
       "    .dataframe tbody tr th {\n",
       "        vertical-align: top;\n",
       "    }\n",
       "\n",
       "    .dataframe thead th {\n",
       "        text-align: right;\n",
       "    }\n",
       "</style>\n",
       "<table border=\"1\" class=\"dataframe\">\n",
       "  <thead>\n",
       "    <tr style=\"text-align: right;\">\n",
       "      <th></th>\n",
       "      <th>doc_body</th>\n",
       "      <th>doc_description</th>\n",
       "      <th>doc_full_name</th>\n",
       "      <th>doc_status</th>\n",
       "      <th>article_id</th>\n",
       "    </tr>\n",
       "  </thead>\n",
       "  <tbody>\n",
       "    <tr>\n",
       "      <th>365</th>\n",
       "      <td>Follow Sign in / Sign up Home About Insight Da...</td>\n",
       "      <td>During the seven-week Insight Data Engineering...</td>\n",
       "      <td>Graph-based machine learning</td>\n",
       "      <td>Live</td>\n",
       "      <td>50</td>\n",
       "    </tr>\n",
       "    <tr>\n",
       "      <th>692</th>\n",
       "      <td>Homepage Follow Sign in / Sign up Homepage * H...</td>\n",
       "      <td>One of the earliest documented catalogs was co...</td>\n",
       "      <td>How smart catalogs can turn the big data flood...</td>\n",
       "      <td>Live</td>\n",
       "      <td>221</td>\n",
       "    </tr>\n",
       "    <tr>\n",
       "      <th>761</th>\n",
       "      <td>Homepage Follow Sign in Get started Homepage *...</td>\n",
       "      <td>Today’s world of data science leverages data f...</td>\n",
       "      <td>Using Apache Spark as a parallel processing fr...</td>\n",
       "      <td>Live</td>\n",
       "      <td>398</td>\n",
       "    </tr>\n",
       "    <tr>\n",
       "      <th>970</th>\n",
       "      <td>This video shows you how to construct queries ...</td>\n",
       "      <td>This video shows you how to construct queries ...</td>\n",
       "      <td>Use the Primary Index</td>\n",
       "      <td>Live</td>\n",
       "      <td>577</td>\n",
       "    </tr>\n",
       "    <tr>\n",
       "      <th>971</th>\n",
       "      <td>Homepage Follow Sign in Get started * Home\\r\\n...</td>\n",
       "      <td>If you are like most data scientists, you are ...</td>\n",
       "      <td>Self-service data preparation with IBM Data Re...</td>\n",
       "      <td>Live</td>\n",
       "      <td>232</td>\n",
       "    </tr>\n",
       "  </tbody>\n",
       "</table>\n",
       "</div>"
      ],
      "text/plain": [
       "                                              doc_body  \\\n",
       "365  Follow Sign in / Sign up Home About Insight Da...   \n",
       "692  Homepage Follow Sign in / Sign up Homepage * H...   \n",
       "761  Homepage Follow Sign in Get started Homepage *...   \n",
       "970  This video shows you how to construct queries ...   \n",
       "971  Homepage Follow Sign in Get started * Home\\r\\n...   \n",
       "\n",
       "                                       doc_description  \\\n",
       "365  During the seven-week Insight Data Engineering...   \n",
       "692  One of the earliest documented catalogs was co...   \n",
       "761  Today’s world of data science leverages data f...   \n",
       "970  This video shows you how to construct queries ...   \n",
       "971  If you are like most data scientists, you are ...   \n",
       "\n",
       "                                         doc_full_name doc_status  article_id  \n",
       "365                       Graph-based machine learning       Live          50  \n",
       "692  How smart catalogs can turn the big data flood...       Live         221  \n",
       "761  Using Apache Spark as a parallel processing fr...       Live         398  \n",
       "970                              Use the Primary Index       Live         577  \n",
       "971  Self-service data preparation with IBM Data Re...       Live         232  "
      ]
     },
     "execution_count": 262,
     "metadata": {},
     "output_type": "execute_result"
    }
   ],
   "source": [
    "# Find and explore duplicate articles\n",
    "df_content.head()\n",
    "check_dupl_df_1 = df_content[df_content.duplicated(['article_id'])]\n",
    "check_dupl_df_1"
   ]
  },
  {
   "cell_type": "code",
   "execution_count": 263,
   "metadata": {},
   "outputs": [
    {
     "data": {
      "text/html": [
       "<div>\n",
       "<style scoped>\n",
       "    .dataframe tbody tr th:only-of-type {\n",
       "        vertical-align: middle;\n",
       "    }\n",
       "\n",
       "    .dataframe tbody tr th {\n",
       "        vertical-align: top;\n",
       "    }\n",
       "\n",
       "    .dataframe thead th {\n",
       "        text-align: right;\n",
       "    }\n",
       "</style>\n",
       "<table border=\"1\" class=\"dataframe\">\n",
       "  <thead>\n",
       "    <tr style=\"text-align: right;\">\n",
       "      <th></th>\n",
       "      <th>doc_body</th>\n",
       "      <th>doc_description</th>\n",
       "      <th>doc_full_name</th>\n",
       "      <th>doc_status</th>\n",
       "      <th>article_id</th>\n",
       "    </tr>\n",
       "  </thead>\n",
       "  <tbody>\n",
       "  </tbody>\n",
       "</table>\n",
       "</div>"
      ],
      "text/plain": [
       "Empty DataFrame\n",
       "Columns: [doc_body, doc_description, doc_full_name, doc_status, article_id]\n",
       "Index: []"
      ]
     },
     "execution_count": 263,
     "metadata": {},
     "output_type": "execute_result"
    }
   ],
   "source": [
    "# Remove any rows that have the same article_id - only keep the first\n",
    "df_content.drop_duplicates(subset='article_id', keep='first', inplace=True)\n",
    "check_dupl_df_1 = df_content[df_content.duplicated(['article_id'])]\n",
    "check_dupl_df_1"
   ]
  },
  {
   "cell_type": "markdown",
   "metadata": {},
   "source": [
    "`3.` Use the cells below to find:\n",
    "\n",
    "**a.** The number of unique articles that have an interaction with a user.  \n",
    "**b.** The number of unique articles in the dataset (whether they have any interactions or not).<br>\n",
    "**c.** The number of unique users in the dataset. (excluding null values) <br>\n",
    "**d.** The number of user-article interactions in the dataset."
   ]
  },
  {
   "cell_type": "code",
   "execution_count": 264,
   "metadata": {},
   "outputs": [
    {
     "name": "stdout",
     "output_type": "stream",
     "text": [
      "714\n",
      "1051\n",
      "5149\n",
      "45993\n"
     ]
    },
    {
     "data": {
      "text/plain": [
       "5148"
      ]
     },
     "execution_count": 264,
     "metadata": {},
     "output_type": "execute_result"
    }
   ],
   "source": [
    "df_content.head(3)\n",
    "df.head(3)\n",
    "print(len(df.article_id.unique()))\n",
    "print(len(df_content.article_id.unique()))\n",
    "print(len(df.email.unique()))\n",
    "print(df.shape[0])\n",
    "df[df.email.isna() == True]\n",
    "df_email_na_dropped = df.dropna(subset=['email'])\n",
    "len(df_email_na_dropped.email.unique())"
   ]
  },
  {
   "cell_type": "code",
   "execution_count": 265,
   "metadata": {},
   "outputs": [],
   "source": [
    "unique_articles = len(df.article_id.unique()) # The number of unique articles that have at least one interaction\n",
    "total_articles = len(df_content.article_id.unique()) # The number of unique articles on the IBM platform\n",
    "unique_users = len(df_email_na_dropped.email.unique()) # The number of unique users\n",
    "user_article_interactions = df.shape[0] # The number of user-article interactions\n"
   ]
  },
  {
   "cell_type": "markdown",
   "metadata": {},
   "source": [
    "`4.` Use the cells below to find the most viewed **article_id**, as well as how often it was viewed.  After talking to the company leaders, the `email_mapper` function was deemed a reasonable way to map users to ids.  There were a small number of null values, and it was found that all of these null values likely belonged to a single user (which is how they are stored using the function below)."
   ]
  },
  {
   "cell_type": "code",
   "execution_count": 266,
   "metadata": {},
   "outputs": [
    {
     "name": "stdout",
     "output_type": "stream",
     "text": [
      "1429.0\n",
      "937\n"
     ]
    }
   ],
   "source": [
    "# df_content.head(3)\n",
    "article_id_grouped_df = df.groupby('article_id')\n",
    "print(article_id_grouped_df['email'].count().sort_values(ascending=False).index[0])\n",
    "print(article_id_grouped_df['email'].count().sort_values(ascending=False).values[0])"
   ]
  },
  {
   "cell_type": "code",
   "execution_count": 267,
   "metadata": {},
   "outputs": [],
   "source": [
    "most_viewed_article_id = '1429.0'# The most viewed article in the dataset as a string with one value following the decimal \n",
    "max_views = 937 # The most viewed article in the dataset was viewed how many times?"
   ]
  },
  {
   "cell_type": "code",
   "execution_count": 268,
   "metadata": {},
   "outputs": [
    {
     "data": {
      "text/html": [
       "<div>\n",
       "<style scoped>\n",
       "    .dataframe tbody tr th:only-of-type {\n",
       "        vertical-align: middle;\n",
       "    }\n",
       "\n",
       "    .dataframe tbody tr th {\n",
       "        vertical-align: top;\n",
       "    }\n",
       "\n",
       "    .dataframe thead th {\n",
       "        text-align: right;\n",
       "    }\n",
       "</style>\n",
       "<table border=\"1\" class=\"dataframe\">\n",
       "  <thead>\n",
       "    <tr style=\"text-align: right;\">\n",
       "      <th></th>\n",
       "      <th>article_id</th>\n",
       "      <th>title</th>\n",
       "      <th>user_id</th>\n",
       "    </tr>\n",
       "  </thead>\n",
       "  <tbody>\n",
       "    <tr>\n",
       "      <th>0</th>\n",
       "      <td>1430.0</td>\n",
       "      <td>using pixiedust for fast, flexible, and easier...</td>\n",
       "      <td>1</td>\n",
       "    </tr>\n",
       "    <tr>\n",
       "      <th>1</th>\n",
       "      <td>1314.0</td>\n",
       "      <td>healthcare python streaming application demo</td>\n",
       "      <td>2</td>\n",
       "    </tr>\n",
       "    <tr>\n",
       "      <th>2</th>\n",
       "      <td>1429.0</td>\n",
       "      <td>use deep learning for image classification</td>\n",
       "      <td>3</td>\n",
       "    </tr>\n",
       "    <tr>\n",
       "      <th>3</th>\n",
       "      <td>1338.0</td>\n",
       "      <td>ml optimization using cognitive assistant</td>\n",
       "      <td>4</td>\n",
       "    </tr>\n",
       "    <tr>\n",
       "      <th>4</th>\n",
       "      <td>1276.0</td>\n",
       "      <td>deploy your python model as a restful api</td>\n",
       "      <td>5</td>\n",
       "    </tr>\n",
       "  </tbody>\n",
       "</table>\n",
       "</div>"
      ],
      "text/plain": [
       "   article_id                                              title  user_id\n",
       "0      1430.0  using pixiedust for fast, flexible, and easier...        1\n",
       "1      1314.0       healthcare python streaming application demo        2\n",
       "2      1429.0         use deep learning for image classification        3\n",
       "3      1338.0          ml optimization using cognitive assistant        4\n",
       "4      1276.0          deploy your python model as a restful api        5"
      ]
     },
     "execution_count": 268,
     "metadata": {},
     "output_type": "execute_result"
    }
   ],
   "source": [
    "## No need to change the code here - this will be helpful for later parts of the notebook\n",
    "# Run this cell to map the user email to a user_id column and remove the email column\n",
    "\n",
    "def email_mapper():\n",
    "    coded_dict = dict()\n",
    "    cter = 1\n",
    "    email_encoded = []\n",
    "    \n",
    "    for val in df['email']:\n",
    "        if val not in coded_dict:\n",
    "            coded_dict[val] = cter\n",
    "            cter+=1\n",
    "        \n",
    "        email_encoded.append(coded_dict[val])\n",
    "    return email_encoded\n",
    "\n",
    "email_encoded = email_mapper()\n",
    "del df['email']\n",
    "df['user_id'] = email_encoded\n",
    "\n",
    "# show header\n",
    "df.head()"
   ]
  },
  {
   "cell_type": "code",
   "execution_count": 269,
   "metadata": {},
   "outputs": [
    {
     "name": "stdout",
     "output_type": "stream",
     "text": [
      "It looks like you have everything right here! Nice job!\n"
     ]
    }
   ],
   "source": [
    "## If you stored all your results in the variable names above, \n",
    "## you shouldn't need to change anything in this cell\n",
    "\n",
    "sol_1_dict = {\n",
    "    '`50% of individuals have _____ or fewer interactions.`': median_val,\n",
    "    '`The total number of user-article interactions in the dataset is ______.`': user_article_interactions,\n",
    "    '`The maximum number of user-article interactions by any 1 user is ______.`': max_views_by_user,\n",
    "    '`The most viewed article in the dataset was viewed _____ times.`': max_views,\n",
    "    '`The article_id of the most viewed article is ______.`': most_viewed_article_id,\n",
    "    '`The number of unique articles that have at least 1 rating ______.`': unique_articles,\n",
    "    '`The number of unique users in the dataset is ______`': unique_users,\n",
    "    '`The number of unique articles on the IBM platform`': total_articles\n",
    "}\n",
    "\n",
    "# Test your dictionary against the solution\n",
    "t.sol_1_test(sol_1_dict)"
   ]
  },
  {
   "cell_type": "markdown",
   "metadata": {},
   "source": [
    "### <a class=\"anchor\" id=\"Rank\">Part II: Rank-Based Recommendations</a>\n",
    "\n",
    "Unlike in the earlier lessons, we don't actually have ratings for whether a user liked an article or not.  We only know that a user has interacted with an article.  In these cases, the popularity of an article can really only be based on how often an article was interacted with.\n",
    "\n",
    "`1.` Fill in the function below to return the **n** top articles ordered with most interactions as the top. Test your function using the tests below."
   ]
  },
  {
   "cell_type": "code",
   "execution_count": 270,
   "metadata": {},
   "outputs": [
    {
     "data": {
      "text/plain": [
       "title                                                                               article_id\n",
       "use deep learning for image classification                                          1429.0        937\n",
       "insights from new york car accident reports                                         1330.0        927\n",
       "visualize car data with brunel                                                      1431.0        671\n",
       "use xgboost, scikit-learn & ibm watson machine learning apis                        1427.0        643\n",
       "predicting churn with the spss random tree algorithm                                1364.0        627\n",
       "healthcare python streaming application demo                                        1314.0        614\n",
       "finding optimal locations of new store using decision optimization                  1293.0        572\n",
       "apache spark lab, part 1: basic concepts                                            1170.0        565\n",
       "analyze energy consumption in buildings                                             1162.0        512\n",
       "gosales transactions for logistic regression model                                  1304.0        483\n",
       "welcome to pixiedust                                                                1436.0        481\n",
       "customer demographics and sales                                                     1271.0        473\n",
       "total population by country                                                         1398.0        465\n",
       "deep learning with tensorflow course by big data university                         43.0          460\n",
       "model bike sharing data with spss                                                   1351.0        457\n",
       "the nurse assignment problem                                                        1393.0        455\n",
       "classify tumors with machine learning                                               1185.0        442\n",
       "analyze accident reports on amazon emr spark                                        1160.0        433\n",
       "movie recommender system with spark machine learning                                1354.0        426\n",
       "putting a human face on machine learning                                            1368.0        418\n",
       "gosales transactions for naive bayes model                                          1305.0        413\n",
       "ml optimization using cognitive assistant                                           1338.0        382\n",
       "learn basics about notebooks and apache spark                                       1336.0        379\n",
       "analyze precipitation data                                                          1165.0        372\n",
       "apache spark lab, part 3: machine learning                                          1172.0        363\n",
       "jupyter notebook tutorial                                                           151.0         352\n",
       "deploy your python model as a restful api                                           1276.0        347\n",
       "visualize data with the matplotlib library                                          1432.0        340\n",
       "using pixiedust for fast, flexible, and easier data analysis and experimentation    1430.0        336\n",
       "access db2 warehouse on cloud and db2 with python                                   1052.0        330\n",
       "                                                                                                 ... \n",
       "airbnb data for analytics: paris reviews                                            1122.0          2\n",
       "airbnb data for analytics: brussels reviews                                         1083.0          2\n",
       "refugees, worldwide, 2003 - 2013                                                    1372.0          2\n",
       "roads, paved (% of total roads), worldwide, 1990-2011                               1378.0          2\n",
       "airbnb data for analytics: mallorca reviews                                         1101.0          2\n",
       "airbnb data for analytics: santa cruz county reviews                                1134.0          2\n",
       "airbnb data for analytics: seattle calendar                                         1135.0          2\n",
       "airbnb data for analytics: seattle reviews                                          1137.0          2\n",
       "airbnb data for analytics: trentino calendar                                        1144.0          2\n",
       "stacking multiple custom models in watson visual recognition                        870.0           2\n",
       "airbnb data for analytics: austin calendar                                          1069.0          2\n",
       "create a project in dsx                                                             972.0           2\n",
       "airbnb data for analytics: london reviews                                           1092.0          1\n",
       "airbnb data for analytics: barcelona calendar                                       1072.0          1\n",
       "build deep learning architectures with neural network modeler                       662.0           1\n",
       "the data processing inequality                                                      984.0           1\n",
       "this week in data science (november 22, 2016)                                       974.0           1\n",
       "create a connection and add it to a project using ibm data refinery                 653.0           1\n",
       "ibm data catalog overview                                                           417.0           1\n",
       "airbnb data for analytics: new orleans reviews                                      1113.0          1\n",
       "airbnb data for analytics: oakland reviews                                          1119.0          1\n",
       "country statistics: crude oil - imports                                             1200.0          1\n",
       "country surface area (sq. km)                                                       1266.0          1\n",
       "country statistics: crude oil - proved reserves                                     1202.0          1\n",
       "measles immunization % children 12-23 months by country                             1344.0          1\n",
       "airbnb data for analytics: san diego listings                                       1127.0          1\n",
       "country statistics: market value of publicly traded shares                          1233.0          1\n",
       "country statistics: natural gas - consumption                                       1237.0          1\n",
       "webinar: april 11 - thinking inside the box: you can do that inside a data frame?!  675.0           1\n",
       "nips 2016 — day 2 highlights                                                        724.0           1\n",
       "Name: user_id, Length: 714, dtype: int64"
      ]
     },
     "execution_count": 270,
     "metadata": {},
     "output_type": "execute_result"
    }
   ],
   "source": [
    "df.head(2)\n",
    "article_id_grouped_df = df.groupby(['title','article_id'])\n",
    "article_id_grouped_df['user_id'].count().sort_values(ascending=False)\n",
    "\n",
    "# article_id_grouped_df = df.groupby(['article_id','title'])\n",
    "# print(article_id_grouped_df['user_id'].count().sort_values(ascending=False))\n",
    "# article_id_grouped_df['user_id'].count().sort_values(ascending=False).iloc[0:10].index"
   ]
  },
  {
   "cell_type": "code",
   "execution_count": 271,
   "metadata": {},
   "outputs": [],
   "source": [
    "def get_top_articles(n, df=df):\n",
    "    '''\n",
    "    INPUT:\n",
    "    n - (int) the number of top articles to return\n",
    "    df - (pandas dataframe) df as defined at the top of the notebook \n",
    "    \n",
    "    OUTPUT:\n",
    "    top_articles - (list) A list of the top 'n' article titles \n",
    "    \n",
    "    '''\n",
    "    article_id_grouped_df = df.groupby(['title'])\n",
    "    top_articles = article_id_grouped_df['user_id'].count().sort_values(ascending=False).iloc[:n].index.tolist()\n",
    "    \n",
    "    return top_articles # Return the top article titles from df (not df_content)\n",
    "\n",
    "def get_top_article_ids(n, df=df):\n",
    "    '''\n",
    "    INPUT:\n",
    "    n - (int) the number of top articles to return\n",
    "    df - (pandas dataframe) df as defined at the top of the notebook \n",
    "    \n",
    "    OUTPUT:\n",
    "    top_articles - (list) A list of the top 'n' article titles \n",
    "    \n",
    "    '''\n",
    "    article_id_grouped_df = df.groupby(['article_id'])\n",
    "    top_articles_ids = article_id_grouped_df['user_id'].count().sort_values(ascending=False).iloc[:n].index.tolist()\n",
    "\n",
    "    return top_articles_ids # Return the top article ids"
   ]
  },
  {
   "cell_type": "code",
   "execution_count": 272,
   "metadata": {},
   "outputs": [
    {
     "name": "stdout",
     "output_type": "stream",
     "text": [
      "['use deep learning for image classification', 'insights from new york car accident reports', 'visualize car data with brunel', 'use xgboost, scikit-learn & ibm watson machine learning apis', 'predicting churn with the spss random tree algorithm', 'healthcare python streaming application demo', 'finding optimal locations of new store using decision optimization', 'apache spark lab, part 1: basic concepts', 'analyze energy consumption in buildings', 'gosales transactions for logistic regression model']\n",
      "[1429.0, 1330.0, 1431.0, 1427.0, 1364.0, 1314.0, 1293.0, 1170.0, 1162.0, 1304.0]\n"
     ]
    }
   ],
   "source": [
    "print(get_top_articles(10))\n",
    "print(get_top_article_ids(10))"
   ]
  },
  {
   "cell_type": "code",
   "execution_count": 273,
   "metadata": {},
   "outputs": [
    {
     "name": "stdout",
     "output_type": "stream",
     "text": [
      "Your top_5 looks like the solution list! Nice job.\n",
      "Your top_10 looks like the solution list! Nice job.\n",
      "Your top_20 looks like the solution list! Nice job.\n"
     ]
    }
   ],
   "source": [
    "# Test your function by returning the top 5, 10, and 20 articles\n",
    "top_5 = get_top_articles(5)\n",
    "top_10 = get_top_articles(10)\n",
    "top_20 = get_top_articles(20)\n",
    "\n",
    "# Test each of your three lists from above\n",
    "t.sol_2_test(get_top_articles)"
   ]
  },
  {
   "cell_type": "markdown",
   "metadata": {},
   "source": [
    "### <a class=\"anchor\" id=\"User-User\">Part III: User-User Based Collaborative Filtering</a>\n",
    "\n",
    "\n",
    "`1.` Use the function below to reformat the **df** dataframe to be shaped with users as the rows and articles as the columns.  \n",
    "\n",
    "* Each **user** should only appear in each **row** once.\n",
    "\n",
    "\n",
    "* Each **article** should only show up in one **column**.  \n",
    "\n",
    "\n",
    "* **If a user has interacted with an article, then place a 1 where the user-row meets for that article-column**.  It does not matter how many times a user has interacted with the article, all entries where a user has interacted with an article should be a 1.  \n",
    "\n",
    "\n",
    "* **If a user has not interacted with an item, then place a zero where the user-row meets for that article-column**. \n",
    "\n",
    "Use the tests to make sure the basic structure of your matrix matches what is expected by the solution."
   ]
  },
  {
   "cell_type": "code",
   "execution_count": 308,
   "metadata": {},
   "outputs": [
    {
     "data": {
      "text/html": [
       "<div>\n",
       "<style scoped>\n",
       "    .dataframe tbody tr th:only-of-type {\n",
       "        vertical-align: middle;\n",
       "    }\n",
       "\n",
       "    .dataframe tbody tr th {\n",
       "        vertical-align: top;\n",
       "    }\n",
       "\n",
       "    .dataframe thead th {\n",
       "        text-align: right;\n",
       "    }\n",
       "</style>\n",
       "<table border=\"1\" class=\"dataframe\">\n",
       "  <thead>\n",
       "    <tr style=\"text-align: right;\">\n",
       "      <th>article_id</th>\n",
       "      <th>0.0</th>\n",
       "      <th>2.0</th>\n",
       "      <th>4.0</th>\n",
       "      <th>8.0</th>\n",
       "      <th>9.0</th>\n",
       "      <th>12.0</th>\n",
       "      <th>14.0</th>\n",
       "      <th>15.0</th>\n",
       "      <th>16.0</th>\n",
       "      <th>18.0</th>\n",
       "      <th>...</th>\n",
       "      <th>1434.0</th>\n",
       "      <th>1435.0</th>\n",
       "      <th>1436.0</th>\n",
       "      <th>1437.0</th>\n",
       "      <th>1439.0</th>\n",
       "      <th>1440.0</th>\n",
       "      <th>1441.0</th>\n",
       "      <th>1442.0</th>\n",
       "      <th>1443.0</th>\n",
       "      <th>1444.0</th>\n",
       "    </tr>\n",
       "    <tr>\n",
       "      <th>user_id</th>\n",
       "      <th></th>\n",
       "      <th></th>\n",
       "      <th></th>\n",
       "      <th></th>\n",
       "      <th></th>\n",
       "      <th></th>\n",
       "      <th></th>\n",
       "      <th></th>\n",
       "      <th></th>\n",
       "      <th></th>\n",
       "      <th></th>\n",
       "      <th></th>\n",
       "      <th></th>\n",
       "      <th></th>\n",
       "      <th></th>\n",
       "      <th></th>\n",
       "      <th></th>\n",
       "      <th></th>\n",
       "      <th></th>\n",
       "      <th></th>\n",
       "      <th></th>\n",
       "    </tr>\n",
       "  </thead>\n",
       "  <tbody>\n",
       "    <tr>\n",
       "      <th>1</th>\n",
       "      <td>NaN</td>\n",
       "      <td>NaN</td>\n",
       "      <td>NaN</td>\n",
       "      <td>NaN</td>\n",
       "      <td>NaN</td>\n",
       "      <td>NaN</td>\n",
       "      <td>NaN</td>\n",
       "      <td>NaN</td>\n",
       "      <td>NaN</td>\n",
       "      <td>NaN</td>\n",
       "      <td>...</td>\n",
       "      <td>NaN</td>\n",
       "      <td>NaN</td>\n",
       "      <td>1.0</td>\n",
       "      <td>NaN</td>\n",
       "      <td>1.0</td>\n",
       "      <td>NaN</td>\n",
       "      <td>NaN</td>\n",
       "      <td>NaN</td>\n",
       "      <td>NaN</td>\n",
       "      <td>NaN</td>\n",
       "    </tr>\n",
       "    <tr>\n",
       "      <th>2</th>\n",
       "      <td>NaN</td>\n",
       "      <td>NaN</td>\n",
       "      <td>NaN</td>\n",
       "      <td>NaN</td>\n",
       "      <td>NaN</td>\n",
       "      <td>NaN</td>\n",
       "      <td>NaN</td>\n",
       "      <td>NaN</td>\n",
       "      <td>NaN</td>\n",
       "      <td>NaN</td>\n",
       "      <td>...</td>\n",
       "      <td>NaN</td>\n",
       "      <td>NaN</td>\n",
       "      <td>NaN</td>\n",
       "      <td>NaN</td>\n",
       "      <td>NaN</td>\n",
       "      <td>NaN</td>\n",
       "      <td>NaN</td>\n",
       "      <td>NaN</td>\n",
       "      <td>NaN</td>\n",
       "      <td>NaN</td>\n",
       "    </tr>\n",
       "    <tr>\n",
       "      <th>3</th>\n",
       "      <td>NaN</td>\n",
       "      <td>NaN</td>\n",
       "      <td>NaN</td>\n",
       "      <td>NaN</td>\n",
       "      <td>NaN</td>\n",
       "      <td>1.0</td>\n",
       "      <td>NaN</td>\n",
       "      <td>NaN</td>\n",
       "      <td>NaN</td>\n",
       "      <td>NaN</td>\n",
       "      <td>...</td>\n",
       "      <td>NaN</td>\n",
       "      <td>NaN</td>\n",
       "      <td>1.0</td>\n",
       "      <td>NaN</td>\n",
       "      <td>NaN</td>\n",
       "      <td>NaN</td>\n",
       "      <td>NaN</td>\n",
       "      <td>NaN</td>\n",
       "      <td>NaN</td>\n",
       "      <td>NaN</td>\n",
       "    </tr>\n",
       "    <tr>\n",
       "      <th>4</th>\n",
       "      <td>NaN</td>\n",
       "      <td>NaN</td>\n",
       "      <td>NaN</td>\n",
       "      <td>NaN</td>\n",
       "      <td>NaN</td>\n",
       "      <td>NaN</td>\n",
       "      <td>NaN</td>\n",
       "      <td>NaN</td>\n",
       "      <td>NaN</td>\n",
       "      <td>NaN</td>\n",
       "      <td>...</td>\n",
       "      <td>NaN</td>\n",
       "      <td>NaN</td>\n",
       "      <td>NaN</td>\n",
       "      <td>NaN</td>\n",
       "      <td>NaN</td>\n",
       "      <td>NaN</td>\n",
       "      <td>NaN</td>\n",
       "      <td>NaN</td>\n",
       "      <td>NaN</td>\n",
       "      <td>NaN</td>\n",
       "    </tr>\n",
       "    <tr>\n",
       "      <th>5</th>\n",
       "      <td>NaN</td>\n",
       "      <td>NaN</td>\n",
       "      <td>NaN</td>\n",
       "      <td>NaN</td>\n",
       "      <td>NaN</td>\n",
       "      <td>NaN</td>\n",
       "      <td>NaN</td>\n",
       "      <td>NaN</td>\n",
       "      <td>NaN</td>\n",
       "      <td>NaN</td>\n",
       "      <td>...</td>\n",
       "      <td>NaN</td>\n",
       "      <td>NaN</td>\n",
       "      <td>NaN</td>\n",
       "      <td>NaN</td>\n",
       "      <td>NaN</td>\n",
       "      <td>NaN</td>\n",
       "      <td>NaN</td>\n",
       "      <td>NaN</td>\n",
       "      <td>NaN</td>\n",
       "      <td>NaN</td>\n",
       "    </tr>\n",
       "  </tbody>\n",
       "</table>\n",
       "<p>5 rows × 714 columns</p>\n",
       "</div>"
      ],
      "text/plain": [
       "article_id  0.0     2.0     4.0     8.0     9.0     12.0    14.0    15.0    \\\n",
       "user_id                                                                      \n",
       "1              NaN     NaN     NaN     NaN     NaN     NaN     NaN     NaN   \n",
       "2              NaN     NaN     NaN     NaN     NaN     NaN     NaN     NaN   \n",
       "3              NaN     NaN     NaN     NaN     NaN     1.0     NaN     NaN   \n",
       "4              NaN     NaN     NaN     NaN     NaN     NaN     NaN     NaN   \n",
       "5              NaN     NaN     NaN     NaN     NaN     NaN     NaN     NaN   \n",
       "\n",
       "article_id  16.0    18.0    ...  1434.0  1435.0  1436.0  1437.0  1439.0  \\\n",
       "user_id                     ...                                           \n",
       "1              NaN     NaN  ...     NaN     NaN     1.0     NaN     1.0   \n",
       "2              NaN     NaN  ...     NaN     NaN     NaN     NaN     NaN   \n",
       "3              NaN     NaN  ...     NaN     NaN     1.0     NaN     NaN   \n",
       "4              NaN     NaN  ...     NaN     NaN     NaN     NaN     NaN   \n",
       "5              NaN     NaN  ...     NaN     NaN     NaN     NaN     NaN   \n",
       "\n",
       "article_id  1440.0  1441.0  1442.0  1443.0  1444.0  \n",
       "user_id                                             \n",
       "1              NaN     NaN     NaN     NaN     NaN  \n",
       "2              NaN     NaN     NaN     NaN     NaN  \n",
       "3              NaN     NaN     NaN     NaN     NaN  \n",
       "4              NaN     NaN     NaN     NaN     NaN  \n",
       "5              NaN     NaN     NaN     NaN     NaN  \n",
       "\n",
       "[5 rows x 714 columns]"
      ]
     },
     "execution_count": 308,
     "metadata": {},
     "output_type": "execute_result"
    }
   ],
   "source": [
    "df.head(4)\n",
    "# user_items.groupby(['user_id', 'article_id'])['rating'].max().unstack()\n",
    "df_tmp = df.groupby('user_id')['article_id'].value_counts().unstack()\n",
    "df_tmp[df_tmp.isna() == False] = 1\n",
    "df_tmp.head(5)"
   ]
  },
  {
   "cell_type": "code",
   "execution_count": 306,
   "metadata": {},
   "outputs": [],
   "source": [
    "# create the user-article matrix with 1's and 0's\n",
    "\n",
    "def create_user_item_matrix(df):\n",
    "    '''\n",
    "    INPUT:\n",
    "    df - pandas dataframe with article_id, title, user_id columns\n",
    "    \n",
    "    OUTPUT:\n",
    "    user_item - user item matrix \n",
    "    \n",
    "    Description:\n",
    "    Return a matrix with user ids as rows and article ids on the columns with 1 values where a user interacted with \n",
    "    an article and a 0 otherwise\n",
    "    '''\n",
    "    # Fill in the function here\n",
    "    user_item = df.groupby('user_id')['article_id'].value_counts().unstack()\n",
    "    user_item[user_item.isna() == False] = 1\n",
    "    \n",
    "    return user_item # return the user_item matrix \n",
    "\n",
    "user_item = create_user_item_matrix(df)"
   ]
  },
  {
   "cell_type": "code",
   "execution_count": 307,
   "metadata": {},
   "outputs": [
    {
     "name": "stdout",
     "output_type": "stream",
     "text": [
      "You have passed our quick tests!  Please proceed!\n"
     ]
    }
   ],
   "source": [
    "## Tests: You should just need to run this cell.  Don't change the code.\n",
    "assert user_item.shape[0] == 5149, \"Oops!  The number of users in the user-article matrix doesn't look right.\"\n",
    "assert user_item.shape[1] == 714, \"Oops!  The number of articles in the user-article matrix doesn't look right.\"\n",
    "assert user_item.sum(axis=1)[1] == 36, \"Oops!  The number of articles seen by user 1 doesn't look right.\"\n",
    "print(\"You have passed our quick tests!  Please proceed!\")"
   ]
  },
  {
   "cell_type": "markdown",
   "metadata": {},
   "source": [
    "`2.` Complete the function below which should take a user_id and provide an ordered list of the most similar users to that user (from most similar to least similar).  The returned result should not contain the provided user_id, as we know that each user is similar to him/herself. Because the results for each user here are binary, it (perhaps) makes sense to compute similarity as the dot product of two users. \n",
    "\n",
    "Use the tests to test your function."
   ]
  },
  {
   "cell_type": "code",
   "execution_count": 366,
   "metadata": {},
   "outputs": [
    {
     "name": "stdout",
     "output_type": "stream",
     "text": [
      "(714,)\n",
      "(714, 5149)\n",
      "user_id\n",
      "3353    40.0\n",
      "3782    23.0\n",
      "23      23.0\n",
      "98      17.0\n",
      "3764    17.0\n",
      "203     16.0\n",
      "3697    16.0\n",
      "49      16.0\n",
      "4459    16.0\n",
      "3596    15.0\n",
      "52      15.0\n",
      "3540    14.0\n",
      "912     14.0\n",
      "40      13.0\n",
      "3966    13.0\n",
      "3910    13.0\n",
      "204     13.0\n",
      "3870    13.0\n",
      "4932    13.0\n",
      "131     13.0\n",
      "242     13.0\n",
      "11      13.0\n",
      "2926    13.0\n",
      "5138    13.0\n",
      "4785    12.0\n",
      "619     12.0\n",
      "21      12.0\n",
      "765     12.0\n",
      "3578    12.0\n",
      "4774    12.0\n",
      "        ... \n",
      "2814     0.0\n",
      "2853     0.0\n",
      "2834     0.0\n",
      "2852     0.0\n",
      "2851     0.0\n",
      "2849     0.0\n",
      "2848     0.0\n",
      "2847     0.0\n",
      "2846     0.0\n",
      "2844     0.0\n",
      "2843     0.0\n",
      "2840     0.0\n",
      "2838     0.0\n",
      "2836     0.0\n",
      "2835     0.0\n",
      "2833     0.0\n",
      "2815     0.0\n",
      "2832     0.0\n",
      "2831     0.0\n",
      "2829     0.0\n",
      "2827     0.0\n",
      "2826     0.0\n",
      "2825     0.0\n",
      "2824     0.0\n",
      "2823     0.0\n",
      "2822     0.0\n",
      "2820     0.0\n",
      "2819     0.0\n",
      "2818     0.0\n",
      "2575     0.0\n",
      "Name: 3, Length: 5148, dtype: float64\n",
      "****************************************\n",
      "[3353, 3782, 23, 98, 3764, 203, 3697, 49, 4459, 3596, 52, 3540, 912, 40, 3966, 3910, 204, 3870, 4932, 131, 242, 11, 2926, 5138, 4785, 619, 21, 765, 3578, 4774, 195, 125, 214, 656, 4642, 4755, 3141, 754, 3024, 290, 28, 3784, 371, 2161, 288, 334, 3801, 211, 4201, 46, 696, 4706, 3485, 4471, 807, 134, 135, 2982, 3621, 4824, 273, 3794, 4038, 186, 383, 4883, 1058, 126, 67, 4892, 3006, 3057, 3172, 72, 184, 5041, 58, 111, 4293, 113, 3740, 3532, 4134, 295, 322, 395, 3622, 4392, 4161, 4904, 197, 591, 755, 209, 689, 3483, 3079, 621, 648, 538, 4209, 199, 3058, 3775, 3967, 3938, 187, 4934, 6, 5140, 2989, 4277, 3695, 90, 170, 4449, 791, 750, 479, 1068, 471, 722, 1062, 3358, 56, 3877, 4618, 3136, 3856, 1059, 3169, 249, 741, 60, 223, 4595, 215, 3264, 64, 665, 3636, 2908, 3878, 4272, 3651, 3684, 3960, 3417, 4900, 3968, 669, 280, 712, 129, 651, 420, 4404, 268, 4323, 1355, 261, 860, 469, 3061, 745, 4778, 4543, 726, 3486, 761, 492, 4660, 688, 4788, 4792, 4308, 3208, 3783, 196, 4484, 193, 3933, 3589, 235, 4623, 693, 488, 244, 3072, 1, 5079, 4137, 5059, 5057, 38, 4206, 55, 4231, 536, 1897, 262, 65, 3100, 3611, 4167, 3614, 697, 511, 3310, 220, 668, 4876, 2913, 347, 4142, 2903, 227, 3118, 3238, 145, 1240, 69, 169, 312, 4494, 1163, 85, 438, 4802, 4511, 582, 3007, 375, 88, 313, 4491, 733, 3918, 670, 3829, 3520, 2981, 362, 4842, 2975, 173, 4526, 4225, 545, 640, 647, 409, 330, 3439, 5078, 2290, 4, 5143, 256, 4145, 3674, 3879, 790, 521, 4241, 8, 456, 3197, 5080, 418, 3474, 1384, 1105, 646, 794, 3147, 3163, 1262, 10, 3741, 542, 1139, 4720, 3414, 600, 3245, 3884, 3812, 4378, 751, 3043, 753, 896, 4680, 4086, 45, 1076, 76, 4515, 3198, 3441, 3535, 22, 1588, 900, 644, 3818, 321, 48, 3466, 700, 3240, 886, 3108, 4696, 3421, 225, 26, 2423, 3420, 3237, 1063, 3898, 3495, 4200, 3082, 1567, 27, 5023, 907, 66, 5105, 3176, 3500, 319, 352, 706, 3802, 239, 296, 379, 1162, 4453, 3329, 1272, 3637, 1426, 1265, 1261, 1251, 3633, 601, 658, 723, 842, 152, 4021, 1040, 512, 3378, 4872, 287, 560, 464, 649, 110, 2718, 114, 1386, 3710, 3724, 294, 1353, 3693, 5077, 3354, 2288, 1401, 3732, 1310, 3336, 1302, 411, 510, 155, 1215, 3943, 2974, 3831, 3957, 3949, 4667, 1476, 4088, 535, 3765, 1198, 2994, 4386, 714, 500, 4497, 770, 87, 3553, 715, 5118, 1026, 2953, 3835, 970, 3296, 4268, 854, 310, 251, 5123, 3402, 3291, 4620, 3824, 35, 3408, 5086, 3376, 598, 4577, 736, 304, 3412, 980, 324, 323, 2284, 3833, 1671, 32, 987, 2270, 3366, 4958, 3430, 3581, 3754, 4393, 558, 1801, 3618, 5127, 847, 3616, 851, 575, 4472, 3757, 856, 5124, 3763, 858, 862, 3749, 3632, 3634, 413, 424, 4148, 808, 809, 3691, 4427, 786, 3669, 2007, 785, 3667, 410, 5134, 833, 406, 404, 17, 2144, 3442, 866, 3488, 24, 346, 923, 3477, 925, 926, 4107, 3464, 932, 4557, 938, 4560, 4099, 4098, 3807, 943, 4119, 354, 3506, 2202, 3570, 3561, 3768, 5115, 2186, 5111, 2194, 894, 3514, 895, 4517, 992, 365, 445, 3518, 4527, 584, 797, 3346, 4039, 4915, 5012, 3919, 1291, 3063, 683, 4044, 1281, 2487, 82, 3969, 5001, 4285, 83, 3042, 1156, 74, 1548, 3124, 698, 3117, 4071, 1322, 2901, 1317, 699, 1408, 5034, 4204, 2790, 63, 4768, 4970, 1137, 1301, 208, 86, 1266, 1172, 660, 2955, 1208, 2948, 666, 2636, 3956, 1213, 508, 4995, 509, 661, 94, 2919, 4877, 2907, 4015, 168, 1443, 4010, 1197, 3017, 1264, 4992, 3005, 100, 673, 181, 2993, 1478, 4834, 2983, 176, 4274, 1250, 4843, 1331, 1577, 703, 1350, 719, 5070, 4186, 4668, 1038, 271, 713, 1048, 266, 1354, 4943, 4319, 4085, 1635, 3235, 1061, 1114, 2312, 3292, 3864, 3325, 4336, 3338, 4636, 1003, 1668, 3326, 285, 2304, 1359, 3313, 1014, 3305, 2308, 721, 3301, 4949, 4697, 1225, 4082, 248, 3206, 2377, 1612, 4725, 641, 4933, 1082, 1084, 3888, 1395, 490, 5046, 1094, 609, 1110, 5052, 707, 5053, 3211, 252, 107, 3213, 3986, 3212, 253, 121, 122, 3225, 5055, 1345, 3972, 662, 4144, 3970, 652, 3998, 3727, 639, 659, 635, 638, 783, 3975, 4001, 637, 4045, 4019, 3885, 702, 4110, 4108, 3889, 4073, 607, 3803, 3808, 3809, 4076, 4068, 4097, 746, 744, 711, 4087, 740, 720, 3837, 734, 757, 758, 664, 763, 778, 3951, 4022, 4025, 4130, 674, 4026, 676, 4127, 680, 694, 681, 631, 4041, 724, 3917, 4049, 798, 4061, 760, 3876, 1016, 3715, 2731, 1271, 2842, 1283, 1284, 1300, 1303, 1311, 1325, 1329, 1337, 1338, 1340, 1360, 2728, 1439, 1375, 1385, 1389, 1394, 1405, 1406, 1413, 1418, 1420, 1427, 2653, 1433, 2644, 1270, 1245, 1243, 1239, 3015, 1183, 1187, 2992, 2988, 1191, 2980, 2978, 2969, 1202, 2962, 2956, 2946, 2945, 2941, 2940, 2935, 2932, 2931, 1218, 1219, 2921, 2917, 1223, 2899, 2898, 1238, 1437, 1452, 1169, 2209, 2316, 1655, 2303, 1673, 2279, 1684, 1685, 2255, 1698, 2235, 1702, 1705, 1715, 2205, 1455, 2164, 1762, 1766, 2116, 1787, 2097, 1807, 1850, 1988, 1984, 1882, 1914, 1915, 2319, 2328, 2342, 1636, 2586, 2579, 1487, 2564, 1499, 1500, 2541, 1509, 1511, 2506, 1541, 2488, 1549, 1550, 1561, 1569, 2447, 1572, 2440, 1574, 1582, 2416, 2415, 1595, 1608, 2376, 1633, 1170, 3034, 3714, 946, 891, 3527, 3523, 908, 3505, 3499, 3492, 924, 927, 3459, 939, 3451, 3446, 947, 3396, 948, 3434, 950, 953, 3425, 954, 955, 958, 959, 3410, 3406, 3404, 962, 3538, 889, 3542, 885, 3713, 3705, 3703, 810, 814, 820, 3671, 824, 825, 828, 3658, 3641, 840, 3627, 3625, 849, 850, 855, 3595, 3580, 871, 3564, 874, 3556, 3554, 880, 884, 3400, 3384, 3046, 1132, 3201, 3196, 3195, 1089, 1091, 1095, 1112, 1115, 1118, 3107, 1128, 3102, 1129, 3094, 972, 3093, 3092, 1134, 1135, 3083, 3081, 1142, 3069, 3067, 3065, 1145, 3056, 1150, 3217, 1071, 1070, 1067, 975, 977, 978, 3360, 986, 988, 3344, 995, 3341, 1004, 3320, 1007, 568, 3300, 1019, 1023, 1025, 3284, 1027, 3278, 3258, 1051, 3247, 1056, 3244, 3243, 1057, 4149, 890, 297, 238, 360, 4255, 514, 363, 4266, 4522, 4269, 5048, 240, 4275, 115, 501, 4947, 177, 4311, 4510, 4942, 370, 120, 4505, 4502, 233, 4291, 51, 4498, 4495, 132, 4921, 4252, 241, 4250, 4529, 4553, 5117, 533, 5139, 62, 4700, 4707, 344, 102, 18, 4230, 103, 59, 4234, 4969, 4968, 351, 4716, 5039, 4965, 57, 246, 9, 4962, 54, 359, 4248, 4914, 486, 4215, 188, 4373, 4882, 153, 442, 4806, 440, 4809, 4437, 4384, 4385, 414, 4389, 160, 4815, 4487, 4390, 434, 163, 5075, 4820, 4861, 164, 4426, 166, 4420, 4417, 171, 4409, 149, 4801, 4800, 198, 381, 484, 4482, 5058, 475, 13, 470, 4759, 213, 4465, 140, 460, 4352, 459, 4896, 4356, 403, 144, 4790, 5066, 4363, 4364, 4791, 200, 4367, 4794, 4795, 4980, 4837, 4632, 292, 326, 5145, 5018, 4170, 4648, 4626, 563, 4571, 315, 4619, 561, 4591, 4987, 5106, 4564, 557, 5110, 4658, 305, 4588, 5011, 75, 308, 4685, 284, 299, 4599, 4652, 335, 5013, 92, 4194, 4643, 4649, 3324, 1009, 3076, 5090, 3323, 3318, 3066, 3075, 201, 1008, 2192, 3316, 2266, 4647, 4786, 1727, 2267, 4784, 33, 3074, 1709, 31, 217, 4763, 1131, 2260, 2259, 3101, 281, 3103, 2258, 1127, 2257, 222, 2196, 3109, 3110, 3111, 1133, 1686, 205, 1013, 3080, 2264, 3059, 207, 4776, 2263, 3085, 1136, 3087, 3088, 4772, 1011, 282, 212, 3091, 3060, 3048, 3327, 1178, 4822, 3351, 4821, 991, 1180, 2296, 2295, 2298, 3012, 3013, 3347, 5112, 1669, 2291, 1181, 4826, 4816, 2990, 1660, 1192, 1661, 990, 4833, 1662, 41, 3001, 4831, 180, 4828, 5074, 2299, 1184, 5081, 2289, 3328, 4654, 34, 3335, 999, 1677, 194, 1730, 4803, 1157, 2273, 1001, 3052, 3054, 1002, 4638, 1675, 1674, 996, 191, 997, 3339, 5082, 1166, 1165, 1164, 2188, 36, 37, 3033, 998, 4637, 4810, 2283, 3112, 3122, 1124, 1041, 3265, 4673, 245, 4721, 1043, 1045, 1718, 1078, 1077, 3202, 1047, 3203, 4718, 3205, 247, 243, 3268, 3207, 1079, 1032, 1033, 1083, 4728, 1034, 1035, 3189, 2206, 3190, 3191, 2207, 1081, 272, 4672, 2231, 4675, 1049, 3185, 1074, 4705, 2225, 264, 263, 3228, 2223, 1065, 4689, 260, 1064, 1708, 4691, 4698, 4695, 2219, 2227, 4683, 3255, 3218, 3209, 3210, 5103, 4713, 1714, 3250, 4712, 3214, 2229, 1712, 1055, 3216, 4710, 267, 1711, 4670, 1085, 3115, 1018, 4657, 4744, 2245, 230, 1109, 231, 3142, 3143, 3144, 1697, 4741, 1106, 3297, 4740, 2242, 229, 3135, 1101, 4656, 226, 3119, 1017, 2251, 4694, 2250, 4749, 4748, 3129, 4747, 3131, 3302, 4655, 3132, 4746, 2241, 3154, 3183, 277, 3171, 276, 237, 1090, 5109, 4665, 5099, 274, 3177, 5108, 3178, 1031, 3179, 3180, 1087, 1701, 4736, 3155, 5097, 2197, 1100, 3157, 1099, 2239, 2238, 3161, 3294, 1096, 232, 2200, 1699, 3290, 3166, 1022, 4732, 1154, 4839, 1581, 2643, 2645, 2646, 2444, 96, 2650, 5026, 5030, 2654, 1429, 99, 4974, 1576, 2661, 61, 1422, 2435, 1580, 2431, 2445, 2446, 4981, 2451, 1457, 1454, 70, 2453, 2452, 1450, 1449, 2625, 1447, 1438, 1446, 2450, 1444, 2449, 2634, 93, 2637, 95, 2430, 1411, 2614, 1583, 1590, 1591, 1377, 2410, 2407, 112, 1371, 2720, 1370, 2405, 1366, 4953, 2729, 2730, 2732, 2733, 1362, 4948, 2740, 1381, 2414, 1383, 2688, 1584, 2425, 104, 1404, 2682, 1403, 105, 1399, 2422, 4959, 2692, 2418, 2417, 1391, 1390, 1387, 2703, 4960, 2615, 2613, 4840, 2558, 5015, 77, 1507, 1506, 2540, 78, 2542, 2484, 2545, 1503, 2483, 2548, 2550, 79, 1547, 2553, 2554, 2555, 2556, 5009, 1512, 1513, 2516, 2504, 1532, 2508, 1530, 2510, 2511, 2512, 2513, 1527, 1515, 2496, 1539, 1523, 1521, 1520, 2492, 2526, 2491, 1498, 1497, 71, 1495, 1481, 1557, 1479, 4990, 89, 2593, 1475, 2465, 1471, 5020, 1469, 2601, 1468, 1562, 1463, 1566, 1461, 2458, 2457, 4991, 2470, 2584, 2570, 2562, 2563, 5017, 2565, 2566, 2567, 2568, 2569, 1493, 1483, 1491, 1552, 2475, 1488, 1553, 4994, 1555, 1556, 2742, 2396, 116, 4873, 1650, 4889, 148, 1227, 2902, 150, 1226, 151, 2324, 2909, 2910, 2911, 154, 2914, 2915, 2916, 2322, 2918, 4874, 1229, 1230, 2894, 1244, 1253, 2336, 4898, 2335, 2871, 1643, 1247, 1246, 143, 2892, 2878, 1645, 2882, 147, 2886, 1235, 1234, 1232, 2920, 5067, 1603, 158, 4857, 167, 2959, 2960, 1205, 4852, 2964, 1203, 4850, 1201, 1200, 4849, 1199, 2972, 4847, 1196, 1195, 175, 2979, 165, 1209, 2951, 1734, 159, 4869, 1217, 2929, 2318, 4868, 2317, 2934, 2938, 1210, 1212, 4862, 2942, 2943, 2944, 4860, 5069, 2949, 2337, 2864, 1255, 1256, 1617, 1320, 2372, 4925, 1620, 1313, 4922, 1623, 1624, 2796, 1307, 2365, 1626, 1627, 4918, 4917, 1299, 2361, 2807, 2375, 2779, 1324, 2383, 118, 2393, 2391, 1347, 2390, 119, 5049, 123, 1335, 128, 5050, 1332, 4930, 1330, 2770, 1615, 1616, 2774, 1297, 1629, 2811, 2343, 2839, 1273, 2841, 4909, 4908, 4907, 2845, 137, 2850, 2837, 5064, 139, 4902, 1263, 2341, 1640, 2860, 1257, 1274, 5062, 2358, 1631, 2356, 4913, 2816, 2817, 2355, 1289, 2354, 2821, 136, 2348, 4911, 1282, 2828, 4910, 2830, 1634, 2349, 1278, 4865, 1729, 774, 1852, 3846, 730, 3848, 729, 728, 3851, 3852, 727, 725, 5130, 468, 3857, 472, 3860, 2018, 1853, 4331, 476, 1851, 4341, 2015, 3830, 2030, 3816, 749, 748, 3825, 743, 742, 461, 4349, 466, 4348, 3834, 1848, 4345, 738, 2023, 2022, 735, 718, 3869, 3694, 3908, 4300, 4298, 3902, 695, 3904, 4297, 4296, 692, 691, 3897, 4295, 690, 3912, 3913, 4294, 4292, 3916, 497, 495, 4302, 1855, 1858, 480, 4324, 1857, 4321, 4320, 482, 483, 710, 708, 494, 3883, 487, 489, 4307, 705, 2009, 5133, 701, 454, 752, 453, 3736, 3728, 4403, 431, 3731, 4401, 789, 3734, 788, 787, 1828, 4399, 4398, 784, 3743, 3744, 3745, 3746, 4396, 430, 793, 3810, 1820, 4421, 4419, 421, 3701, 3702, 4416, 2063, 2062, 2059, 4407, 423, 3712, 425, 426, 1823, 2056, 3720, 796, 2048, 4395, 1831, 759, 443, 3785, 3786, 3787, 3788, 762, 444, 3792, 446, 3751, 4371, 3796, 3797, 447, 448, 4366, 3805, 3806, 441, 3780, 764, 3778, 3753, 1833, 2044, 3759, 1835, 3761, 1836, 437, 4622, 773, 772, 771, 2039, 2038, 2037, 4382, 439, 4289, 687, 684, 4189, 4195, 4193, 606, 4079, 1955, 1904, 4084, 4191, 546, 4198, 1951, 548, 4092, 4183, 4094, 4095, 4096, 4181, 4197, 4070, 624, 618, 1890, 4047, 539, 4050, 4051, 4205, 1892, 4054, 4057, 1900, 1966, 541, 1896, 5, 4064, 1899, 4067, 4199, 1909, 1945, 1943, 1930, 4128, 1936, 555, 4132, 578, 576, 573, 1920, 4143, 592, 1929, 1928, 564, 4150, 4151, 4153, 4158, 567, 4172, 2, 4173, 583, 551, 4178, 552, 590, 1913, 4111, 4112, 1941, 587, 1939, 4117, 585, 1938, 4174, 4121, 4122, 4123, 4210, 4212, 4288, 1874, 4262, 513, 3964, 4254, 516, 4251, 1873, 3971, 657, 506, 3976, 4245, 654, 3980, 653, 4244, 650, 522, 507, 1994, 4213, 3935, 4287, 3927, 4286, 3929, 3930, 2002, 498, 3934, 3936, 4273, 499, 4282, 675, 4279, 1999, 3944, 3946, 671, 523, 4238, 3989, 4028, 4016, 4017, 531, 4023, 4024, 534, 4217, 4027, 1885, 4236, 4030, 630, 4033, 629, 1886, 627, 4037, 4214, 1880, 4013, 4012, 1879, 3991, 3992, 3993, 645, 4235, 3996, 3997, 3999, 4000, 4233, 4002, 1985, 642, 7, 1983, 4227, 528, 419, 2502, 4519, 2162, 3566, 3565, 1782, 873, 3562, 2111, 4582, 875, 1781, 877, 2113, 2114, 4580, 15, 881, 378, 882, 952, 3548, 3428, 883, 4504, 2118, 4506, 1778, 951, 327, 4509, 2121, 3536, 3423, 4583, 852, 2166, 3605, 3603, 3602, 3601, 3600, 4474, 3407, 4594, 960, 1793, 3411, 1792, 3413, 861, 2101, 380, 3588, 3586, 864, 3584, 1745, 3582, 3579, 4486, 3576, 14, 956, 3574, 3572, 4585, 1776, 892, 1775, 3490, 356, 4559, 937, 355, 3456, 1767, 913, 16, 915, 1765, 2135, 917, 936, 3458, 1764, 3433, 935, 919, 2139, 3484, 2152, 3482, 2141, 1754, 922, 3465, 343, 3476, 931, 4552, 2131, 3502, 910, 4561, 4514, 4516, 1747, 4572, 3528, 3436, 4568, 945, 3526, 4424, 364, 3522, 4566, 898, 899, 2157, 901, 3444, 902, 903, 904, 3447, 905, 3448, 906, 2154, 333, 2153, 3504, 853, 1790, 4598, 3654, 307, 4600, 3652, 976, 2175, 3375, 830, 3661, 3373, 3656, 2176, 3657, 2177, 3659, 4608, 4443, 974, 832, 4444, 973, 3647, 2077, 3645, 3644, 4607, 3383, 3643, 836, 405, 3640, 3385, 3660, 3662, 971, 4429, 3678, 1813, 3363, 818, 817, 3362, 417, 2073, 301, 2181, 3688, 1818, 811, 3692, 821, 1737, 3676, 822, 983, 302, 415, 823, 3672, 4432, 4435, 3368, 412, 2071, 408, 981, 4614, 2078, 928, 2171, 968, 2089, 967, 4469, 2174, 398, 845, 966, 2084, 3390, 3387, 843, 4457, 1806, 841, 3610, 3620, 4450, 3397, 4468, 2081, 5129, 964, 4454, 3615, 402, 3391, 3635, 3392, 4602, 4448, 1554, 1906, 1538, 1726, 1881, 1721, 1910, 1911, 1905, 1537, 1883, 1884, 1731, 1540, 1738, 1919, 1573, 1744, 1733, 1575, 1736, 1741, 1756, 1551, 1710, 1755, 1535, 1907, 1908, 1878, 1753, 1921, 1579, 1578, 1752, 1536, 1922, 1903, 1742, 1743, 1732, 1713, 1917, 1571, 1888, 1748, 1720, 1559, 1891, 1560, 1739, 1746, 19, 1723, 1534, 1898, 1568, 1545, 1893, 1563, 1564, 1565, 1894, 1895, 1546, 1722, 1889, 20, 1912, 1887, 1918, 1716, 1751, 1717, 73, 1902, 1740, 1757, 1728, 1750, 1725, 1719, 1724, 1542, 1558, 1901, 68, 1543, 1749, 1570, 1916, 1544, 1666, 1758, 1803, 1646, 1843, 1647, 1842, 12, 1802, 1648, 1841, 1649, 1799, 1840, 1839, 1804, 1805, 1651, 1808, 1683, 1838, 1800, 1644, 1690, 1639, 1637, 1638, 1791, 30, 1794, 1795, 1796, 1688, 1641, 1798, 1849, 1847, 1797, 1642, 1687, 1846, 1845, 1844, 1652, 1653, 1809, 1822, 1670, 1826, 1658, 1659, 1825, 1824, 1814, 42, 1815, 1837, 1821, 1667, 1816, 1819, 1817, 1663, 1664, 1665, 1827, 39, 1672, 1657, 1682, 1834, 1681, 44, 1654, 1810, 1832, 1680, 1679, 1678, 1811, 1676, 1830, 1829, 1656, 43, 1812, 1689, 1691, 1759, 1599, 1596, 1597, 1598, 1868, 1768, 1769, 1867, 1770, 1600, 1870, 1601, 1602, 1866, 1771, 1604, 1865, 1605, 1772, 1869, 1594, 1692, 25, 1760, 1707, 1585, 1706, 1877, 1761, 1586, 1587, 1876, 1871, 1763, 1875, 53, 1704, 1589, 1872, 1592, 1593, 1606, 1607, 1703, 1786, 29, 1859, 1628, 1696, 1630, 1783, 1784, 1785, 1856, 1609, 1632, 1854, 1695, 1788, 1789, 1694, 1693, 47, 1860, 1625, 1780, 1779, 1864, 1610, 1773, 1611, 1863, 1862, 1613, 1774, 1614, 1777, 50, 1700, 1618, 1619, 1621, 1622, 1861, 1735, 565, 1533, 1531, 369, 888, 887, 372, 879, 373, 374, 878, 876, 376, 377, 872, 870, 869, 868, 1924, 368, 367, 353, 348, 349, 918, 350, 916, 914, 911, 893, 357, 358, 909, 361, 897, 366, 867, 382, 865, 835, 399, 400, 401, 839, 838, 837, 834, 397, 831, 407, 829, 827, 826, 416, 844, 846, 863, 857, 384, 385, 859, 386, 387, 388, 389, 396, 390, 391, 392, 848, 393, 394, 345, 920, 921, 994, 1005, 283, 286, 1000, 289, 291, 293, 1010, 993, 298, 989, 300, 985, 984, 1006, 1012, 979, 1029, 1044, 1042, 1039, 1037, 1036, 1030, 1028, 1015, 275, 1024, 278, 279, 1021, 1020, 982, 303, 342, 336, 332, 942, 941, 940, 934, 933, 337, 331, 338, 930, 929, 339, 340, 341, 944, 329, 306, 314, 309, 969, 311, 965, 963, 961, 316, 328, 317, 318, 957, 320, 325, 949, 819, 816, 815, 622, 632, 628, 626, 625, 537, 623, 620, 633, 540, 617, 616, 615, 614, 613, 532, 634, 611, 520, 663, 515, 517, 518, 519, 655, 524, 530, 643, 525, 526, 527, 636, 529, 612, 610, 505, 556, 586, 554, 581, 580, 579, 577, 574, 589, 572, 559, 562, 571, 570, 569, 588, 553, 608, 547, 605, 604, 603, 543, 602, 544, 599, 593, 549, 550, 597, 596, 595, 594, 667, 504, 813, 775, 781, 780, 779, 435, 777, 776, 436, 433, 769, 768, 767, 766, 756, 449, 782, 432, 451, 802, 812, 806, 422, 805, 804, 803, 801, 792, 427, 800, 799, 428, 795, 429, 450, 452, 503, 686, 709, 485, 704, 491, 493, 496, 685, 478, 682, 679, 678, 677, 502, 672, 481, 477, 455, 737, 747, 457, 458, 462, 463, 739, 465, 716, 732, 731, 467, 473, 474, 717, 1046, 270, 1050, 1365, 1374, 1373, 1372, 1369, 1368, 1367, 1364, 1376, 1363, 1361, 1358, 1357, 1356, 117, 109, 1378, 1351, 1396, 1409, 1407, 1402, 1400, 1398, 1397, 106, 1379, 1393, 1392, 1388, 108, 1382, 1380, 1352, 1349, 1412, 1308, 1318, 1316, 1315, 1314, 1312, 1309, 1306, 1321, 1305, 1304, 133, 1298, 1296, 1295, 1319, 130, 1348, 124, 1346, 1344, 1343, 1342, 1341, 1339, 1336, 1323, 1334, 1333, 127, 1328, 1327, 1326, 1410, 1414, 1293, 84, 1496, 81, 1494, 1492, 1490, 1489, 1486, 1501, 1485, 1484, 1482, 1480, 1477, 1474, 80, 1502, 1472, 1519, 1529, 1528, 1526, 1525, 1524, 1522, 1518, 1504, 1517, 1516, 1514, 1510, 1508, 1505, 1473, 1470, 1415, 1425, 1434, 1432, 1431, 1430, 97, 1428, 1424, 1436, 1423, 1421, 101, 1419, 1417, 1416, 1435, 1440, 1467, 1458, 1466, 1465, 1464, 1462, 1460, 1459, 1456, 1441, 1453, 91, 1451, 1448, 1445, 1442, 1294, 1292, 269, 221, 206, 210, 216, 1130, 218, 219, 1126, 1140, 224, 1125, 1123, 228, 1122, 1121, 1138, 1141, 1119, 1152, 1159, 1158, 1155, 566, 192, 1153, 1151, 202, 1149, 1148, 1147, 1146, 1144, 1143, 1120, 1117, 1161, 257, 1073, 1072, 1069, 254, 255, 1066, 1060, 250, 258, 259, 265, 1054, 1053, 1052, 1075, 1080, 1116, 1102, 1113, 1111, 1108, 1107, 1104, 1103, 1098, 1086, 1097, 234, 1093, 1092, 236, 1088, 1160, 190, 1290, 146, 1252, 142, 1249, 1248, 1242, 1241, 1237, 1258, 1236, 1233, 1231, 1228, 1224, 156, 1254, 1259, 1222, 1277, 1288, 1287, 1286, 1285, 1280, 1279, 1276, 1260, 1275, 1269, 1268, 1267, 138, 141, 157, 1221, 1167, 1176, 1186, 1185, 1182, 183, 1179, 1177, 1175, 1188, 185, 1174, 1173, 1171, 189, 1168, 182, 1189, 1220, 1206, 1216, 161, 1214, 162, 1211, 1207, 1204, 1190, 172, 174, 1194, 1193, 178, 179, 1923, 5149, 1925, 4322, 4020, 4018, 4014, 4011, 4009, 4008, 4007, 4006, 4005, 4004, 4003, 3995, 3994, 3990, 3988, 3987, 3985, 3984, 3983, 3982, 3981, 3979, 3978, 3977, 3974, 3973, 3965, 4029, 4031, 4032, 4060, 4081, 4080, 4078, 4077, 4075, 4074, 4072, 4069, 4066, 4065, 4063, 4062, 4059, 4034, 4058, 4056, 4055, 4053, 4052, 4048, 4046, 4043, 4042, 4040, 4036, 4035, 3963, 3962, 3961, 3887, 3905, 3903, 3901, 3900, 3899, 3896, 3895, 3894, 3893, 3892, 3891, 3890, 3886, 3907, 3882, 3881, 3880, 3875, 3874, 3873, 3872, 3871, 3868, 3867, 3866, 3865, 3906, 3909, 3959, 3939, 3958, 3955, 3954, 3953, 3952, 3950, 3948, 3947, 3945, 3942, 3941, 3940, 3937, 3911, 3932, 3931, 3928, 3926, 3925, 3924, 3923, 3922, 3921, 3920, 3915, 3914, 4083, 4089, 4090, 4232, 4258, 4257, 4256, 4253, 4249, 4247, 4246, 4243, 4242, 4240, 4239, 4237, 4229, 4260, 4228, 4226, 4224, 4223, 4222, 4221, 4220, 4219, 4218, 4216, 4211, 4208, 4259, 4261, 4203, 4301, 4317, 4316, 4315, 4314, 4313, 4312, 4310, 4309, 4306, 4305, 4304, 4303, 4299, 4263, 4290, 4284, 4283, 4281, 4280, 4278, 4276, 4271, 4270, 4267, 4265, 4264, 4207, 4202, 4091, 4118, 4140, 4139, 4138, 4136, 4135, 4133, 4131, 4129, 4126, 4125, 4124, 4120, 4116, 4146, 4115, 4114, 4113, 4109, 4106, 4105, 4104, 4103, 4102, 4101, 4100, 4093, 4141, 4147, 4196, 4171, 4192, 4190, 4188, 4187, 4185, 4184, 4182, 4180, 4179, 4177, 4176, 4175, 4169, 4152, 4168, 4166, 4165, 4164, 4163, 4162, 4160, 4159, 4157, 4156, 4155, 4154, 3863, 3862, 3861, 3544, 3560, 3559, 3558, 3557, 3555, 3552, 3551, 3550, 3549, 3547, 3546, 3545, 3543, 3567, 3541, 3539, 3537, 3534, 3533, 3531, 3530, 3529, 3525, 3524, 3521, 3519, 3563, 3568, 3516, 3598, 3624, 3623, 3619, 3617, 3613, 3612, 3609, 3608, 3607, 3606, 3604, 3599, 3597, 3569, 3594, 3593, 3592, 3591, 3590, 3587, 3585, 3583, 3577, 3575, 3573, 3571, 3517, 3515, 3628, 3438, 3461, 3460, 3457, 3455, 3454, 3453, 3452, 3450, 3449, 3445, 3443, 3440, 3437, 3463, 3435, 3432, 3431, 3429, 3427, 3426, 3424, 3422, 3419, 3418, 3416, 3415, 3462, 3467, 3513, 3493, 3512, 3511, 3510, 3509, 3508, 3507, 3503, 3501, 3498, 3497, 3496, 3494, 3491, 3468, 3489, 3487, 3481, 3480, 3479, 3478, 3475, 3473, 3472, 3471, 3470, 3469, 3626, 3629, 3859, 3776, 3804, 3800, 3799, 3798, 3795, 3793, 3791, 3790, 3789, 3781, 3779, 3777, 3774, 3813, 3773, 3772, 3771, 3770, 3769, 3767, 3766, 3762, 3760, 3758, 3756, 3755, 3811, 3814, 3750, 3840, 3858, 3855, 3854, 3853, 3850, 3849, 3847, 3845, 3844, 3843, 3842, 3841, 3839, 3815, 3838, 3836, 3832, 3828, 3827, 3826, 3823, 3822, 3821, 3820, 3819, 3817, 3752, 3748, 3630, 3666, 3686, 3685, 3683, 3682, 3681, 3680, 3679, 3677, 3675, 3673, 3670, 3668, 3665, 3689, 3664, 3663, 3655, 3653, 3650, 3649, 3648, 3646, 3642, 3639, 3638, 3631, 3687, 3690, 3747, 3721, 3742, 3739, 3738, 3737, 3735, 3733, 3730, 3729, 3726, 3725, 3723, 3722, 3719, 3696, 3718, 3717, 3716, 3711, 3709, 3708, 3707, 3706, 3704, 3700, 3699, 3698, 4318, 4325, 3405, 4326, 4884, 4881, 4880, 4879, 4878, 4875, 4871, 4870, 4867, 4866, 4864, 4863, 4859, 4858, 4856, 4855, 4854, 4853, 4851, 4848, 4846, 4845, 4844, 4841, 4838, 4836, 4835, 4885, 4886, 4887, 4919, 4938, 4937, 4936, 4935, 4931, 4929, 4928, 4927, 4926, 4924, 4923, 4920, 4916, 4888, 4912, 4906, 4905, 4903, 4901, 4899, 4897, 4895, 4894, 4893, 4891, 4890, 4832, 4830, 4829, 4753, 4769, 4767, 4766, 4765, 4764, 4762, 4761, 4760, 4758, 4757, 4756, 4754, 4752, 4771, 4751, 4750, 4745, 4743, 4742, 4739, 4738, 4737, 4735, 4734, 4733, 4731, 4770, 4773, 4827, 4804, 4825, 4823, 4819, 4818, 4817, 4814, 4813, 4812, 4811, 4808, 4807, 4805, 4799, 4775, 4798, 4797, 4796, 4793, 4789, 4787, 4783, 4782, 4781, 4780, 4779, 4777, 4939, 4940, 4941, 5068, 5092, 5091, 5089, 5088, 5087, 5085, 5084, 5083, 5076, 5073, 5072, 5071, 5065, 5094, 5063, 5061, 5060, 5056, 5054, 5051, 5047, 5045, 5044, 5043, 5042, 5040, 5093, 5095, 5037, 5125, 5147, 5146, 5144, 5142, 5141, 5137, 5136, 5135, 5132, 5131, 5128, 5126, 5122, 5096, 5121, 5120, 5119, 5116, 5114, 5113, 5107, 5104, 5102, 5101, 5100, 5098, 5038, 5036, 4944, 4967, 4985, 4984, 4983, 4982, 4979, 4978, 4977, 4976, 4975, 4973, 4972, 4971, 4966, 4988, 4964, 4963, 4961, 4957, 4956, 4955, 4954, 4952, 4951, 4950, 4946, 4945, 4986, 4989, 5035, 5014, 5033, 5032, 5031, 5029, 5028, 5027, 5025, 5024, 5022, 5021, 5019, 5016, 5010, 4993, 5008, 5007, 5006, 5005, 5004, 5003, 5002, 5000, 4999, 4998, 4997, 4996, 4730, 4729, 4727, 4446, 4466, 4464, 4463, 4462, 4461, 4460, 4458, 4456, 4455, 4452, 4451, 4447, 4445, 4470, 4442, 4441, 4440, 4439, 4438, 4436, 4434, 4433, 4431, 4430, 4428, 4425, 4467, 4473, 4422, 4496, 4523, 4521, 4520, 4518, 4513, 4512, 4508, 4507, 4503, 4501, 4500, 4499, 4493, 4475, 4492, 4490, 4489, 4488, 4485, 4483, 4481, 4480, 4479, 4478, 4477, 4476, 4423, 4418, 4525, 4343, 4360, 4359, 4358, 4357, 4355, 4354, 4353, 4351, 4350, 4347, 4346, 4344, 4342, 4362, 4340, 4339, 4338, 4337, 4335, 4334, 4333, 4332, 4330, 4329, 4328, 4327, 4361, 4365, 4415, 4391, 4414, 4413, 4412, 4411, 4410, 4408, 4406, 4405, 4402, 4400, 4397, 4394, 4388, 4368, 4387, 4383, 4381, 4380, 4379, 4377, 4376, 4375, 4374, 4372, 4370, 4369, 4524, 4528, 4726, 4644, 4669, 4666, 4664, 4663, 4662, 4661, 4659, 4653, 4651, 4650, 4646, 4645, 4641, 4674, 4640, 4639, 4635, 4634, 4633, 4631, 4630, 4629, 4628, 4627, 4625, 4624, 4671, 4676, 4617, 4702, 4724, 4723, 4722, 4719, 4717, 4715, 4714, 4711, 4709, 4708, 4704, 4703, 4701, 4677, 4699, 4693, 4692, 4690, 4688, 4687, 4686, 4684, 4682, 4681, 4679, 4678, 4621, 4616, 4530, 4545, 4563, 4562, 4558, 4556, 4555, 4554, 4551, 4550, 4549, 4548, 4547, 4546, 4544, 4567, 4542, 4541, 4540, 4539, 4538, 4537, 4536, 4535, 4534, 4533, 4532, 4531, 4565, 4569, 4615, 4593, 4613, 4612, 4611, 4610, 4609, 4606, 4605, 4604, 4603, 4601, 4597, 4596, 4592, 4570, 4590, 4589, 4587, 4586, 4584, 4581, 4579, 4578, 4576, 4575, 4574, 4573, 3409, 3403, 1926, 2631, 2404, 2403, 2402, 2401, 2400, 2399, 2398, 2397, 2395, 2394, 2392, 2389, 2388, 2387, 2386, 2385, 2384, 2382, 2381, 2380, 2379, 2378, 2374, 2373, 2371, 2370, 2369, 2406, 2408, 2409, 2436, 2460, 2459, 2456, 2455, 2454, 2448, 2443, 2442, 2441, 2439, 2438, 2437, 2434, 2411, 2433, 2432, 2429, 2428, 2427, 2426, 2424, 2421, 2420, 2419, 2413, 2412, 2368, 2367, 2366, 2293, 2313, 2311, 2310, 2309, 2307, 2306, 2305, 2302, 2301, 2300, 2297, 2294, 2292, 2315, 2287, 2286, 2285, 2282, 2281, 2280, 2278, 2277, 2276, 2275, 2274, 2272, 2314, 2320, 2364, 2344, 2363, 2362, 2360, 2359, 2357, 2353, 2352, 2351, 2350, 2347, 2346, 2345, 2340, 2321, 2339, 2338, 2334, 2333, 2332, 2331, 2330, 2329, 2327, 2326, 2325, 2323, 2461, 2462, 2463, 2578, 2594, 2592, 2591, 2590, 2589, 2588, 2587, 2585, 2583, 2582, 2581, 2580, 2577, 2596, 2576, 5148, 2574, 2573, 2572, 2571, 2561, 2560, 2559, 2557, 2552, 2551, 2595, 2597, 2547, 2616, 2629, 2628, 2627, 2626, 2624, 2623, 2622, 2621, 2620, 2619, 2618, 2617, 2612, 2598, 2611, 2610, 2609, 2608, 2607, 2606, 2605, 2604, 2603, 2602, 2600, 2599, 2549, 2546, 2464, 2481, 2500, 2499, 2498, 2497, 2495, 2494, 2493, 2490, 2489, 2486, 2485, 2482, 2480, 2503, 2479, 2478, 2477, 2476, 2474, 2473, 2472, 2471, 2469, 2468, 2467, 2466, 2501, 2505, 2544, 2528, 2543, 2539, 2538, 2537, 2536, 2535, 2534, 2533, 2532, 2531, 2530, 2529, 2527, 2507, 2525, 2524, 2523, 2522, 2521, 2520, 2519, 2518, 2517, 2515, 2514, 2509, 2271, 2269, 2268, 2025, 2041, 2040, 2036, 2035, 2034, 2033, 2032, 2031, 2029, 2028, 2027, 2026, 2024, 2043, 2021, 2020, 2019, 2017, 2016, 2014, 2013, 2012, 2011, 2010, 2008, 2006, 2042, 2045, 2004, 2065, 2082, 2080, 2079, 2076, 2075, 2074, 2072, 2070, 2069, 2068, 2067, 2066, 2064, 2046, 2061, 2060, 2058, 2057, 2055, 2054, 2053, 2052, 2051, 2050, 2049, 2047, 2005, 2003, 2085, 1949, 1963, 1962, 1961, 1960, 1959, 1958, 1957, 1956, 1954, 1953, 1952, 1950, 1948, 1965, 1947, 1946, 1944, 1942, 1940, 1937, 1935, 1934, 1933, 1932, 1931, 1927, 1964, 1967, 2001, 1982, 2000, 1998, 1997, 1996, 1995, 1993, 1992, 1991, 1990, 1989, 1987, 1986, 1981, 1968, 1980, 1979, 1978, 1977, 1976, 1975, 1974, 1973, 1972, 1971, 1970, 1969, 2083, 2086, 2265, 2191, 2213, 2212, 2211, 2210, 2208, 2204, 2203, 2201, 2199, 2198, 2195, 2193, 2190, 2215, 2189, 2187, 2185, 2184, 2183, 2182, 2180, 2179, 2178, 2173, 2172, 2170, 2214, 2216, 2168, 2240, 2262, 2261, 2256, 2254, 2253, 2252, 2249, 2248, 2247, 2246, 2244, 2243, 2237, 2217, 2236, 2234, 2233, 2232, 2230, 2228, 2226, 2224, 2222, 2221, 2220, 2218, 2169, 2167, 2087, 2104, 2122, 2120, 2119, 2117, 2115, 2112, 2110, 2109, 2108, 2107, 2106, 2105, 2103, 2124, 2102, 2100, 2099, 2098, 2096, 2095, 2094, 2093, 2092, 2091, 2090, 2088, 2123, 2125, 2165, 2145, 2163, 2160, 2159, 2158, 2156, 2155, 2151, 2150, 2149, 2148, 2147, 2146, 2143, 2126, 2142, 2140, 2138, 2137, 2136, 2134, 2133, 2132, 2130, 2129, 2128, 2127, 2630, 2632, 3401, 2633, 3133, 3130, 3128, 3127, 3126, 3125, 3123, 3121, 3120, 3116, 3114, 3113, 3106, 3105, 3104, 3099, 3098, 3097, 3096, 3095, 3090, 3089, 3086, 3084, 3078, 3077, 3073, 3134, 3137, 3138, 3162, 3186, 3184, 3182, 3181, 3175, 3174, 3173, 3170, 3168, 3167, 3165, 3164, 3160, 3139, 3159, 3158, 3156, 3153, 3152, 3151, 3150, 3149, 3148, 3146, 3145, 3140, 3071, 3070, 3068, 2997, 3016, 3014, 3011, 3010, 3009, 3008, 3004, 3003, 3002, 3000, 2999, 2998, 2996, 3019, 2995, 2991, 2987, 2986, 2985, 2984, 2977, 2976, 2973, 2971, 2970, 2968, 3018, 3020, 3064, 3038, 3062, 3055, 3053, 3051, 3050, 3049, 3047, 3045, 3044, 3041, 3040, 3039, 3037, 3021, 3036, 3035, 3032, 3031, 3030, 3029, 3028, 3027, 3026, 3025, 3023, 3022, 3187, 3188, 3192, 3319, 3345, 3343, 3342, 3340, 3337, 3334, 3333, 3332, 3331, 3330, 3322, 3321, 3317, 3349, 3315, 3314, 3312, 3311, 3309, 3308, 3307, 3306, 3304, 3303, 3299, 3298, 3348, 3350, 3293, 3377, 3399, 3398, 3395, 3394, 3393, 3389, 3388, 3386, 3382, 3381, 3380, 3379, 3374, 3352, 3372, 3371, 3370, 3369, 3367, 3365, 3364, 3361, 3359, 3357, 3356, 3355, 3295, 3289, 3193, 3229, 3249, 3248, 3246, 3242, 3241, 3239, 3236, 3234, 3233, 3232, 3231, 3230, 3227, 3252, 3226, 3224, 3223, 3222, 3221, 3220, 3219, 3215, 3204, 3200, 3199, 3194, 3251, 3253, 3288, 3273, 3287, 3286, 3285, 3283, 3282, 3281, 3280, 3279, 3277, 3276, 3275, 3274, 3272, 3254, 3271, 3270, 3269, 3267, 3266, 3263, 3262, 3261, 3260, 3259, 3257, 3256, 2967, 2966, 2965, 2724, 2744, 2743, 2741, 2739, 2738, 2737, 2736, 2735, 2734, 2727, 2726, 2725, 2723, 2746, 2722, 2721, 2719, 2717, 2716, 2715, 2714, 2713, 2712, 2711, 2710, 2709, 2745, 2747, 2707, 2762, 2776, 2775, 2773, 2772, 2771, 2769, 2768, 2767, 2766, 2765, 2764, 2763, 2761, 2748, 2760, 2759, 2758, 2757, 2756, 2755, 2754, 2753, 2752, 2751, 2750, 2749, 2708, 2706, 2778, 2657, 2670, 2669, 2668, 2667, 2666, 2665, 2664, 2663, 2662, 2660, 2659, 2658, 2656, 2672, 2655, 2652, 2651, 2649, 2648, 2647, 2642, 2641, 2640, 2639, 2638, 2635, 2671, 2673, 2705, 2690, 2704, 2702, 2701, 2700, 2699, 2698, 2697, 2696, 2695, 2694, 2693, 2691, 2689, 2674, 2687, 2686, 2685, 2684, 2683, 2681, 2680, 2679, 2678, 2677, 2676, 2675, 2777, 2780, 2963, 2873, 2888, 2887, 2885, 2884, 2883, 2881, 2880, 2879, 2877, 2876, 2875, 2874, 2872, 2890, 2870, 2869, 2868, 2867, 2866, 2865, 2863, 2862, 2861, 2859, 2858, 2857, 2889, 2891, 2855, 2928, 2961, 2958, 2957, 2954, 2952, 2950, 2947, 2939, 2937, 2936, 2933, 2930, 2927, 2893, 2925, 2924, 2923, 2922, 2912, 2906, 2905, 2904, 2900, 2897, 2896, 2895, 2856, 2854, 2781, 2797, 2810, 2809, 2808, 2806, 2805, 2804, 2803, 2802, 2801, 2800, 2799, 2798, 2795, 2813, 2794, 2793, 2792, 2791, 2789, 2788, 2787, 2786, 2785, 2784, 2783, 2782, 2812, 2814, 2853, 2834, 2852, 2851, 2849, 2848, 2847, 2846, 2844, 2843, 2840, 2838, 2836, 2835, 2833, 2815, 2832, 2831, 2829, 2827, 2826, 2825, 2824, 2823, 2822, 2820, 2819, 2818, 2575]\n"
     ]
    }
   ],
   "source": [
    "user_item.head(9)\n",
    "user_item_tmp = user_item.copy()\n",
    "user_item_tmp[user_item_tmp.isna() == True] = 0 # 1. Make Nan to 0\n",
    "row = user_item_tmp.loc[3] # 1. Select a row\n",
    "print(row.shape)\n",
    "print(user_item_tmp.T.shape)\n",
    "# 2. Execute dot product\n",
    "result_dot = row@user_item_tmp.T\n",
    "# 3. Get a list of results\n",
    "result_dot = result_dot.sort_values(ascending=False)\n",
    "result_dot = result_dot.drop(labels = [3])\n",
    "result_dot = result_dot.index.tolist()\n",
    "\n",
    "\n",
    "# result_dot.pop(0)\n",
    "# print(result_dot[0:10])\n",
    "# 4. row dot product each rows in the dataframe"
   ]
  },
  {
   "cell_type": "code",
   "execution_count": 387,
   "metadata": {},
   "outputs": [],
   "source": [
    "def find_similar_users(user_id, user_item=user_item):\n",
    "    '''\n",
    "    INPUT:\n",
    "    user_id - (int) a user_id\n",
    "    user_item - (pandas dataframe) matrix of users by articles: \n",
    "                1's when a user has interacted with an article, 0 otherwise\n",
    "    \n",
    "    OUTPUT:\n",
    "    similar_users - (list) an ordered list where the closest users (largest dot product users)\n",
    "                    are listed first\n",
    "    \n",
    "    Description:\n",
    "    Computes the similarity of every pair of users based on the dot product\n",
    "    Returns an ordered\n",
    "    \n",
    "    '''\n",
    "    # compute similarity of each user to the provided user\n",
    "    user_item_tmp = user_item.copy()\n",
    "    user_item_tmp[user_item_tmp.isna() == True] = 0 # 1. Make Nan to 0\n",
    "    row = user_item_tmp.loc[user_id] # 2. Select a row\n",
    "    result_dot = row@user_item_tmp.T # 3. Dot product of each of row of the matrix \n",
    "    result_dot.drop(labels = [user_id], inplace=True) # remove the own user's id\n",
    "    most_similar_users = result_dot.sort_values(ascending=False).index.tolist()  # sort by similarity # create list of just the ids\n",
    "       \n",
    "    return most_similar_users # return a list of the users in order from most to least similar\n",
    "        "
   ]
  },
  {
   "cell_type": "code",
   "execution_count": 391,
   "metadata": {},
   "outputs": [
    {
     "name": "stdout",
     "output_type": "stream",
     "text": [
      "The 10 most similar users to user 1 are: [3933, 23, 3782, 203, 4459, 3870, 131, 4201, 46, 3697]\n",
      "The 5 most similar users to user 3933 are: [1, 3782, 23, 203, 4459]\n",
      "The 3 most similar users to user 46 are: [4201, 3782, 23]\n"
     ]
    }
   ],
   "source": [
    "# Do a spot check of your function\n",
    "print(\"The 10 most similar users to user 1 are: {}\".format(find_similar_users(1)[:10]))\n",
    "print(\"The 5 most similar users to user 3933 are: {}\".format(find_similar_users(3933)[:5]))\n",
    "print(\"The 3 most similar users to user 46 are: {}\".format(find_similar_users(46)[:3]))\n"
   ]
  },
  {
   "cell_type": "markdown",
   "metadata": {},
   "source": [
    "`3.` Now that you have a function that provides the most similar users to each user, you will want to use these users to find articles you can recommend.  Complete the functions below to return the articles you would recommend to each user. "
   ]
  },
  {
   "cell_type": "code",
   "execution_count": 487,
   "metadata": {},
   "outputs": [
    {
     "data": {
      "text/html": [
       "<div>\n",
       "<style scoped>\n",
       "    .dataframe tbody tr th:only-of-type {\n",
       "        vertical-align: middle;\n",
       "    }\n",
       "\n",
       "    .dataframe tbody tr th {\n",
       "        vertical-align: top;\n",
       "    }\n",
       "\n",
       "    .dataframe thead th {\n",
       "        text-align: right;\n",
       "    }\n",
       "</style>\n",
       "<table border=\"1\" class=\"dataframe\">\n",
       "  <thead>\n",
       "    <tr style=\"text-align: right;\">\n",
       "      <th></th>\n",
       "      <th>article_id</th>\n",
       "      <th>title</th>\n",
       "      <th>user_id</th>\n",
       "    </tr>\n",
       "  </thead>\n",
       "  <tbody>\n",
       "    <tr>\n",
       "      <th>0</th>\n",
       "      <td>1430.0</td>\n",
       "      <td>using pixiedust for fast, flexible, and easier...</td>\n",
       "      <td>1</td>\n",
       "    </tr>\n",
       "    <tr>\n",
       "      <th>1</th>\n",
       "      <td>1314.0</td>\n",
       "      <td>healthcare python streaming application demo</td>\n",
       "      <td>2</td>\n",
       "    </tr>\n",
       "    <tr>\n",
       "      <th>2</th>\n",
       "      <td>1429.0</td>\n",
       "      <td>use deep learning for image classification</td>\n",
       "      <td>3</td>\n",
       "    </tr>\n",
       "    <tr>\n",
       "      <th>3</th>\n",
       "      <td>1338.0</td>\n",
       "      <td>ml optimization using cognitive assistant</td>\n",
       "      <td>4</td>\n",
       "    </tr>\n",
       "    <tr>\n",
       "      <th>4</th>\n",
       "      <td>1276.0</td>\n",
       "      <td>deploy your python model as a restful api</td>\n",
       "      <td>5</td>\n",
       "    </tr>\n",
       "  </tbody>\n",
       "</table>\n",
       "</div>"
      ],
      "text/plain": [
       "   article_id                                              title  user_id\n",
       "0      1430.0  using pixiedust for fast, flexible, and easier...        1\n",
       "1      1314.0       healthcare python streaming application demo        2\n",
       "2      1429.0         use deep learning for image classification        3\n",
       "3      1338.0          ml optimization using cognitive assistant        4\n",
       "4      1276.0          deploy your python model as a restful api        5"
      ]
     },
     "execution_count": 487,
     "metadata": {},
     "output_type": "execute_result"
    }
   ],
   "source": [
    "df.head()\n",
    "# # For def get_article_names(article_ids, df=df):\n",
    "# tmp_list = [1430,1314,1276]\n",
    "# empty_list = []\n",
    "# for i in tmp_list:\n",
    "#     title = df[df['article_id'] == i]['title'].unique()[0]\n",
    "#     empty_list.append(title)\n",
    "# print(empty_list)\n",
    "\n",
    "\n",
    "# # For def get_user_articles(user_id, user_item=user_item):\n",
    "# user_item.head()\n",
    "# article_ids = user_item.loc[1][user_item.loc[1] ==1].index.tolist()\n",
    "# article_ids\n",
    "\n",
    "# For def user_user_recs(user_id, m=10):\n",
    "rec_list = []\n",
    "counter = 0\n",
    "\n",
    "article_ids, article_names = get_user_articles(4) # Get seen article ids and names\n",
    "seen_ids_set = set(article_ids)\n",
    "print(\"a set of article ids seen by a selected person:\", seen_ids_set)\n",
    "print(\"**\"*20)\n",
    "# find_similar_users(): find similar users to the user\n",
    "# most_similar_users = find_similar_users(4)[0:5]\n",
    "# for sim_user in most_similar_users:\n",
    "#     if counter < 10: \n",
    "#         sim_article_ids, sim_article_names = get_user_articles(sim_user) \n",
    "#         sim_seen_ids_set = set(sim_article_ids)\n",
    "# #         sim_seen_arti_name_set = set(sim_article_names)\n",
    "#         print(\"a set of article ids seen by a similar person:\", sim_seen_ids_set)\n",
    "#         print(\"**\"*20)\n",
    "#         unseen_ids_set = sim_seen_ids_set.difference(seen_ids_set)\n",
    "#         print(\"a set of article ids unseen by the selected person\", unseen_ids_set)\n",
    "#     #     print(sim_user_dict[230])\n",
    "\n",
    "\n",
    "#         for i in unseen_ids_set: # Unseen articles\n",
    "#             if counter < 10: \n",
    "#                 rec_list.append(i)\n",
    "#                 counter += 1\n",
    "\n",
    "# print(rec_list)\n",
    "# print(len(rec_list))\n",
    "\n"
   ]
  },
  {
   "cell_type": "code",
   "execution_count": 564,
   "metadata": {},
   "outputs": [],
   "source": [
    "def get_article_names(article_ids, df=df):\n",
    "    '''\n",
    "    INPUT:\n",
    "    article_ids - (list) a list of article ids\n",
    "    df - (pandas dataframe) df as defined at the top of the notebook\n",
    "    \n",
    "    OUTPUT:\n",
    "    article_names - (list) a list of article names associated with the list of article ids \n",
    "                    (this is identified by the title column)\n",
    "    '''\n",
    "    # Your code here\n",
    "    article_names = []\n",
    "    article_ids = list(map(float, article_ids))\n",
    "    for i in article_ids:\n",
    "        title = df[df['article_id'] == i]['title'].unique()[0]\n",
    "        article_names.append(title)\n",
    "    return article_names # Return the article names associated with list of article ids\n",
    "\n",
    "def get_user_articles(user_id, user_item=user_item):\n",
    "    '''\n",
    "    INPUT:\n",
    "    user_id - (int) a user id\n",
    "    user_item - (pandas dataframe) matrix of users by articles: \n",
    "                1's when a user has interacted with an article, 0 otherwise\n",
    "    \n",
    "    OUTPUT:\n",
    "    article_ids - (list) a list of the article ids seen by the user\n",
    "    article_names - (list) a list of article names associated with the list of article ids \n",
    "                    (this is identified by the doc_full_name column in df_content)\n",
    "    \n",
    "    Description:\n",
    "    Provides a list of the article_ids and article titles that have been seen by a user\n",
    "    '''\n",
    "    # Your code here\n",
    "    article_ids = user_item.loc[user_id][user_item.loc[user_id] ==1].index.tolist()\n",
    "    article_ids = list(map(str, article_ids))\n",
    "    article_names = get_article_names(article_ids, df=df)\n",
    "    \n",
    "    return article_ids, article_names # return the ids and names\n",
    "\n",
    "\n",
    "def user_user_recs(user_id, m=10):\n",
    "    '''\n",
    "    INPUT:\n",
    "    user_id - (int) a user id\n",
    "    m - (int) the number of recommendations you want for the user\n",
    "    \n",
    "    OUTPUT:\n",
    "    recs - (list) a list of recommendations for the user\n",
    "    \n",
    "    Description:\n",
    "    Loops through the users based on closeness to the input user_id\n",
    "    For each user - finds articles the user hasn't seen before and provides them as recs\n",
    "    Does this until m recommendations are found\n",
    "    \n",
    "    Notes:\n",
    "    Users who are the same closeness are chosen arbitrarily as the 'next' user\n",
    "    \n",
    "    For the user where the number of recommended articles starts below m \n",
    "    and ends exceeding m, the last items are chosen arbitrarily\n",
    "    \n",
    "    '''\n",
    "    recs = []\n",
    "    counter = 0\n",
    "    # Get seen article ids and names from selected user id\n",
    "    article_ids, article_names = get_user_articles(user_id)\n",
    "    # Make set to find unseen articles\n",
    "    seen_ids_set = set(article_ids)\n",
    "    # Find five similar users of the selected user\n",
    "    most_similar_users = find_similar_users(user_id)[0:5]\n",
    "    \n",
    "    # Make recommendation list\n",
    "    for sim_user in most_similar_users:\n",
    "         if counter < m: \n",
    "            # Get seen article ids and names from similar users\n",
    "            sim_article_ids, sim_article_names = get_user_articles(sim_user) \n",
    "            # Make dict (key: article_ids, value:article_names)\n",
    "            sim_user_dict = dict(zip(sim_article_ids, sim_article_names)) \n",
    "            # Make set to find unseen articles\n",
    "            sim_seen_ids_set = set(sim_article_ids)\n",
    "            # Create set of unseen articles_ids\n",
    "            unseen_ids_set = sim_seen_ids_set.difference(seen_ids_set)\n",
    "\n",
    "            for i in unseen_ids_set: \n",
    "                if counter < m: \n",
    "                    recs.append(i)\n",
    "                    counter += 1\n",
    "    \n",
    "    return recs # return your recommendations for this user_id    "
   ]
  },
  {
   "cell_type": "code",
   "execution_count": 565,
   "metadata": {},
   "outputs": [
    {
     "data": {
      "text/plain": [
       "['using deep learning to reconstruct high-resolution audio',\n",
       " 'build a python app on the streaming analytics service',\n",
       " 'gosales transactions for naive bayes model',\n",
       " 'healthcare python streaming application demo',\n",
       " 'use r dataframes & ibm watson natural language understanding',\n",
       " 'use xgboost, scikit-learn & ibm watson machine learning apis']"
      ]
     },
     "execution_count": 565,
     "metadata": {},
     "output_type": "execute_result"
    }
   ],
   "source": [
    "get_article_names(['1024.0', '1176.0', '1305.0', '1314.0', '1422.0', '1427.0'])"
   ]
  },
  {
   "cell_type": "code",
   "execution_count": 566,
   "metadata": {},
   "outputs": [
    {
     "data": {
      "text/plain": [
       "['why even a moth’s brain is smarter than an ai',\n",
       " 'process events from the watson iot platform in a streams python application',\n",
       " 'get social with your notebooks in dsx',\n",
       " 'deep learning with data science experience',\n",
       " 'working with db2 warehouse on cloud in data science experience',\n",
       " '54174    detect potentially malfunctioning sensors in r...\\nName: title, dtype: object',\n",
       " 'shaping data with ibm data refinery',\n",
       " 'a dynamic duo – inside machine learning – medium',\n",
       " 'better together: spss and data science experience',\n",
       " 'higher-order logistic regression for large datasets']"
      ]
     },
     "execution_count": 566,
     "metadata": {},
     "output_type": "execute_result"
    }
   ],
   "source": [
    "# Check Results\n",
    "get_article_names(user_user_recs(1, 10)) # Return 10 recommendations for user 1"
   ]
  },
  {
   "cell_type": "code",
   "execution_count": 567,
   "metadata": {},
   "outputs": [
    {
     "name": "stdout",
     "output_type": "stream",
     "text": [
      "If this is all you see, you passed all of our tests!  Nice job!\n"
     ]
    }
   ],
   "source": [
    "# Test your functions here - No need to change this code - just run this cell\n",
    "assert set(get_article_names(['1024.0', '1176.0', '1305.0', '1314.0', '1422.0', '1427.0'])) == set(['using deep learning to reconstruct high-resolution audio', 'build a python app on the streaming analytics service', 'gosales transactions for naive bayes model', 'healthcare python streaming application demo', 'use r dataframes & ibm watson natural language understanding', 'use xgboost, scikit-learn & ibm watson machine learning apis']), \"Oops! Your the get_article_names function doesn't work quite how we expect.\"\n",
    "assert set(get_article_names(['1320.0', '232.0', '844.0'])) == set(['housing (2015): united states demographic measures','self-service data preparation with ibm data refinery','use the cloudant-spark connector in python notebook']), \"Oops! Your the get_article_names function doesn't work quite how we expect.\"\n",
    "assert set(get_user_articles(20)[0]) == set(['1320.0', '232.0', '844.0'])\n",
    "assert set(get_user_articles(20)[1]) == set(['housing (2015): united states demographic measures', 'self-service data preparation with ibm data refinery','use the cloudant-spark connector in python notebook'])\n",
    "assert set(get_user_articles(2)[0]) == set(['1024.0', '1176.0', '1305.0', '1314.0', '1422.0', '1427.0'])\n",
    "assert set(get_user_articles(2)[1]) == set(['using deep learning to reconstruct high-resolution audio', 'build a python app on the streaming analytics service', 'gosales transactions for naive bayes model', 'healthcare python streaming application demo', 'use r dataframes & ibm watson natural language understanding', 'use xgboost, scikit-learn & ibm watson machine learning apis'])\n",
    "print(\"If this is all you see, you passed all of our tests!  Nice job!\")"
   ]
  },
  {
   "cell_type": "markdown",
   "metadata": {},
   "source": [
    "`4.` Now we are going to improve the consistency of the **user_user_recs** function from above.  \n",
    "\n",
    "* Instead of arbitrarily choosing when we obtain users who are all the same closeness to a given user - choose the users that have the most total article interactions before choosing those with fewer article interactions.\n",
    "\n",
    "\n",
    "* Instead of arbitrarily choosing articles from the user where the number of recommended articles starts below m and ends exceeding m, choose articles with the articles with the most total interactions before choosing those with fewer total interactions. This ranking should be  what would be obtained from the **top_articles** function you wrote earlier."
   ]
  },
  {
   "cell_type": "code",
   "execution_count": null,
   "metadata": {
    "collapsed": true
   },
   "outputs": [],
   "source": [
    "def get_top_sorted_users(user_id, df=df, user_item=user_item):\n",
    "    '''\n",
    "    INPUT:\n",
    "    user_id - (int)\n",
    "    df - (pandas dataframe) df as defined at the top of the notebook \n",
    "    user_item - (pandas dataframe) matrix of users by articles: \n",
    "            1's when a user has interacted with an article, 0 otherwise\n",
    "    \n",
    "            \n",
    "    OUTPUT:\n",
    "    neighbors_df - (pandas dataframe) a dataframe with:\n",
    "                    neighbor_id - is a neighbor user_id\n",
    "                    similarity - measure of the similarity of each user to the provided user_id\n",
    "                    num_interactions - the number of articles viewed by the user - if a u\n",
    "                    \n",
    "    Other Details - sort the neighbors_df by the similarity and then by number of interactions where \n",
    "                    highest of each is higher in the dataframe\n",
    "     \n",
    "    '''\n",
    "    # Your code here\n",
    "    \n",
    "    return neighbors_df # Return the dataframe specified in the doc_string\n",
    "\n",
    "\n",
    "def user_user_recs_part2(user_id, m=10):\n",
    "    '''\n",
    "    INPUT:\n",
    "    user_id - (int) a user id\n",
    "    m - (int) the number of recommendations you want for the user\n",
    "    \n",
    "    OUTPUT:\n",
    "    recs - (list) a list of recommendations for the user by article id\n",
    "    rec_names - (list) a list of recommendations for the user by article title\n",
    "    \n",
    "    Description:\n",
    "    Loops through the users based on closeness to the input user_id\n",
    "    For each user - finds articles the user hasn't seen before and provides them as recs\n",
    "    Does this until m recommendations are found\n",
    "    \n",
    "    Notes:\n",
    "    * Choose the users that have the most total article interactions \n",
    "    before choosing those with fewer article interactions.\n",
    "\n",
    "    * Choose articles with the articles with the most total interactions \n",
    "    before choosing those with fewer total interactions. \n",
    "   \n",
    "    '''\n",
    "    # Your code here\n",
    "    \n",
    "    return recs, rec_names"
   ]
  },
  {
   "cell_type": "code",
   "execution_count": null,
   "metadata": {
    "collapsed": true
   },
   "outputs": [],
   "source": [
    "# Quick spot check - don't change this code - just use it to test your functions\n",
    "rec_ids, rec_names = user_user_recs_part2(20, 10)\n",
    "print(\"The top 10 recommendations for user 20 are the following article ids:\")\n",
    "print(rec_ids)\n",
    "print()\n",
    "print(\"The top 10 recommendations for user 20 are the following article names:\")\n",
    "print(rec_names)"
   ]
  },
  {
   "cell_type": "markdown",
   "metadata": {},
   "source": [
    "`5.` Use your functions from above to correctly fill in the solutions to the dictionary below.  Then test your dictionary against the solution.  Provide the code you need to answer each following the comments below."
   ]
  },
  {
   "cell_type": "code",
   "execution_count": null,
   "metadata": {
    "collapsed": true
   },
   "outputs": [],
   "source": [
    "### Tests with a dictionary of results\n",
    "\n",
    "user1_most_sim = # Find the user that is most similar to user 1 \n",
    "user131_10th_sim = # Find the 10th most similar user to user 131"
   ]
  },
  {
   "cell_type": "code",
   "execution_count": null,
   "metadata": {
    "collapsed": true
   },
   "outputs": [],
   "source": [
    "## Dictionary Test Here\n",
    "sol_5_dict = {\n",
    "    'The user that is most similar to user 1.': user1_most_sim, \n",
    "    'The user that is the 10th most similar to user 131': user131_10th_sim,\n",
    "}\n",
    "\n",
    "t.sol_5_test(sol_5_dict)"
   ]
  },
  {
   "cell_type": "markdown",
   "metadata": {},
   "source": [
    "`6.` If we were given a new user, which of the above functions would you be able to use to make recommendations?  Explain.  Can you think of a better way we might make recommendations?  Use the cell below to explain a better method for new users."
   ]
  },
  {
   "cell_type": "markdown",
   "metadata": {},
   "source": [
    "**Provide your response here.**"
   ]
  },
  {
   "cell_type": "markdown",
   "metadata": {},
   "source": [
    "`7.` Using your existing functions, provide the top 10 recommended articles you would provide for the a new user below.  You can test your function against our thoughts to make sure we are all on the same page with how we might make a recommendation."
   ]
  },
  {
   "cell_type": "code",
   "execution_count": null,
   "metadata": {
    "collapsed": true
   },
   "outputs": [],
   "source": [
    "new_user = '0.0'\n",
    "\n",
    "# What would your recommendations be for this new user '0.0'?  As a new user, they have no observed articles.\n",
    "# Provide a list of the top 10 article ids you would give to \n",
    "new_user_recs = # Your recommendations here\n",
    "\n"
   ]
  },
  {
   "cell_type": "code",
   "execution_count": null,
   "metadata": {
    "collapsed": true
   },
   "outputs": [],
   "source": [
    "assert set(new_user_recs) == set(['1314.0','1429.0','1293.0','1427.0','1162.0','1364.0','1304.0','1170.0','1431.0','1330.0']), \"Oops!  It makes sense that in this case we would want to recommend the most popular articles, because we don't know anything about these users.\"\n",
    "\n",
    "print(\"That's right!  Nice job!\")"
   ]
  },
  {
   "cell_type": "markdown",
   "metadata": {},
   "source": [
    "### <a class=\"anchor\" id=\"Content-Recs\">Part IV: Content Based Recommendations (EXTRA - NOT REQUIRED)</a>\n",
    "\n",
    "Another method we might use to make recommendations is to perform a ranking of the highest ranked articles associated with some term.  You might consider content to be the **doc_body**, **doc_description**, or **doc_full_name**.  There isn't one way to create a content based recommendation, especially considering that each of these columns hold content related information.  \n",
    "\n",
    "`1.` Use the function body below to create a content based recommender.  Since there isn't one right answer for this recommendation tactic, no test functions are provided.  Feel free to change the function inputs if you decide you want to try a method that requires more input values.  The input values are currently set with one idea in mind that you may use to make content based recommendations.  One additional idea is that you might want to choose the most popular recommendations that meet your 'content criteria', but again, there is a lot of flexibility in how you might make these recommendations.\n",
    "\n",
    "### This part is NOT REQUIRED to pass this project.  However, you may choose to take this on as an extra way to show off your skills."
   ]
  },
  {
   "cell_type": "code",
   "execution_count": null,
   "metadata": {
    "collapsed": true
   },
   "outputs": [],
   "source": [
    "def make_content_recs():\n",
    "    '''\n",
    "    INPUT:\n",
    "    \n",
    "    OUTPUT:\n",
    "    \n",
    "    '''"
   ]
  },
  {
   "cell_type": "markdown",
   "metadata": {},
   "source": [
    "`2.` Now that you have put together your content-based recommendation system, use the cell below to write a summary explaining how your content based recommender works.  Do you see any possible improvements that could be made to your function?  Is there anything novel about your content based recommender?\n",
    "\n",
    "### This part is NOT REQUIRED to pass this project.  However, you may choose to take this on as an extra way to show off your skills."
   ]
  },
  {
   "cell_type": "markdown",
   "metadata": {},
   "source": [
    "**Write an explanation of your content based recommendation system here.**"
   ]
  },
  {
   "cell_type": "markdown",
   "metadata": {},
   "source": [
    "`3.` Use your content-recommendation system to make recommendations for the below scenarios based on the comments.  Again no tests are provided here, because there isn't one right answer that could be used to find these content based recommendations.\n",
    "\n",
    "### This part is NOT REQUIRED to pass this project.  However, you may choose to take this on as an extra way to show off your skills."
   ]
  },
  {
   "cell_type": "code",
   "execution_count": null,
   "metadata": {
    "collapsed": true
   },
   "outputs": [],
   "source": [
    "# make recommendations for a brand new user\n",
    "\n",
    "\n",
    "# make a recommendations for a user who only has interacted with article id '1427.0'\n",
    "\n"
   ]
  },
  {
   "cell_type": "markdown",
   "metadata": {},
   "source": [
    "### <a class=\"anchor\" id=\"Matrix-Fact\">Part V: Matrix Factorization</a>\n",
    "\n",
    "In this part of the notebook, you will build use matrix factorization to make article recommendations to the users on the IBM Watson Studio platform.\n",
    "\n",
    "`1.` You should have already created a **user_item** matrix above in **question 1** of **Part III** above.  This first question here will just require that you run the cells to get things set up for the rest of **Part V** of the notebook. "
   ]
  },
  {
   "cell_type": "code",
   "execution_count": null,
   "metadata": {
    "collapsed": true
   },
   "outputs": [],
   "source": [
    "# Load the matrix here\n",
    "user_item_matrix = pd.read_pickle('user_item_matrix.p')"
   ]
  },
  {
   "cell_type": "code",
   "execution_count": null,
   "metadata": {
    "collapsed": true
   },
   "outputs": [],
   "source": [
    "# quick look at the matrix\n",
    "user_item_matrix.head()"
   ]
  },
  {
   "cell_type": "markdown",
   "metadata": {},
   "source": [
    "`2.` In this situation, you can use Singular Value Decomposition from [numpy](https://docs.scipy.org/doc/numpy-1.14.0/reference/generated/numpy.linalg.svd.html) on the user-item matrix.  Use the cell to perform SVD, and explain why this is different than in the lesson."
   ]
  },
  {
   "cell_type": "code",
   "execution_count": null,
   "metadata": {
    "collapsed": true
   },
   "outputs": [],
   "source": [
    "# Perform SVD on the User-Item Matrix Here\n",
    "\n",
    "u, s, vt = # use the built in to get the three matrices"
   ]
  },
  {
   "cell_type": "markdown",
   "metadata": {},
   "source": [
    "**Provide your response here.**"
   ]
  },
  {
   "cell_type": "markdown",
   "metadata": {},
   "source": [
    "`3.` Now for the tricky part, how do we choose the number of latent features to use?  Running the below cell, you can see that as the number of latent features increases, we obtain a lower error rate on making predictions for the 1 and 0 values in the user-item matrix.  Run the cell below to get an idea of how the accuracy improves as we increase the number of latent features."
   ]
  },
  {
   "cell_type": "code",
   "execution_count": null,
   "metadata": {
    "collapsed": true
   },
   "outputs": [],
   "source": [
    "num_latent_feats = np.arange(10,700+10,20)\n",
    "sum_errs = []\n",
    "\n",
    "for k in num_latent_feats:\n",
    "    # restructure with k latent features\n",
    "    s_new, u_new, vt_new = np.diag(s[:k]), u[:, :k], vt[:k, :]\n",
    "    \n",
    "    # take dot product\n",
    "    user_item_est = np.around(np.dot(np.dot(u_new, s_new), vt_new))\n",
    "    \n",
    "    # compute error for each prediction to actual value\n",
    "    diffs = np.subtract(user_item_matrix, user_item_est)\n",
    "    \n",
    "    # total errors and keep track of them\n",
    "    err = np.sum(np.sum(np.abs(diffs)))\n",
    "    sum_errs.append(err)\n",
    "    \n",
    "    \n",
    "plt.plot(num_latent_feats, 1 - np.array(sum_errs)/df.shape[0]);\n",
    "plt.xlabel('Number of Latent Features');\n",
    "plt.ylabel('Accuracy');\n",
    "plt.title('Accuracy vs. Number of Latent Features');"
   ]
  },
  {
   "cell_type": "markdown",
   "metadata": {},
   "source": [
    "`4.` From the above, we can't really be sure how many features to use, because simply having a better way to predict the 1's and 0's of the matrix doesn't exactly give us an indication of if we are able to make good recommendations.  Instead, we might split our dataset into a training and test set of data, as shown in the cell below.  \n",
    "\n",
    "Use the code from question 3 to understand the impact on accuracy of the training and test sets of data with different numbers of latent features. Using the split below: \n",
    "\n",
    "* How many users can we make predictions for in the test set?  \n",
    "* How many users are we not able to make predictions for because of the cold start problem?\n",
    "* How many articles can we make predictions for in the test set?  \n",
    "* How many articles are we not able to make predictions for because of the cold start problem?"
   ]
  },
  {
   "cell_type": "code",
   "execution_count": null,
   "metadata": {
    "collapsed": true
   },
   "outputs": [],
   "source": [
    "df_train = df.head(40000)\n",
    "df_test = df.tail(5993)\n",
    "\n",
    "def create_test_and_train_user_item(df_train, df_test):\n",
    "    '''\n",
    "    INPUT:\n",
    "    df_train - training dataframe\n",
    "    df_test - test dataframe\n",
    "    \n",
    "    OUTPUT:\n",
    "    user_item_train - a user-item matrix of the training dataframe \n",
    "                      (unique users for each row and unique articles for each column)\n",
    "    user_item_test - a user-item matrix of the testing dataframe \n",
    "                    (unique users for each row and unique articles for each column)\n",
    "    test_idx - all of the test user ids\n",
    "    test_arts - all of the test article ids\n",
    "    \n",
    "    '''\n",
    "    # Your code here\n",
    "    \n",
    "    return user_item_train, user_item_test, test_idx, test_arts\n",
    "\n",
    "user_item_train, user_item_test, test_idx, test_arts = create_test_and_train_user_item(df_train, df_test)"
   ]
  },
  {
   "cell_type": "code",
   "execution_count": null,
   "metadata": {
    "collapsed": true
   },
   "outputs": [],
   "source": [
    "# Replace the values in the dictionary below\n",
    "a = 662 \n",
    "b = 574 \n",
    "c = 20 \n",
    "d = 0 \n",
    "\n",
    "\n",
    "sol_4_dict = {\n",
    "    'How many users can we make predictions for in the test set?': # letter here, \n",
    "    'How many users in the test set are we not able to make predictions for because of the cold start problem?': # letter here, \n",
    "    'How many articles can we make predictions for in the test set?': # letter here,\n",
    "    'How many articles in the test set are we not able to make predictions for because of the cold start problem?': # letter here\n",
    "}\n",
    "\n",
    "t.sol_4_test(sol_4_dict)"
   ]
  },
  {
   "cell_type": "markdown",
   "metadata": {},
   "source": [
    "`5.` Now use the **user_item_train** dataset from above to find U, S, and V transpose using SVD. Then find the subset of rows in the **user_item_test** dataset that you can predict using this matrix decomposition with different numbers of latent features to see how many features makes sense to keep based on the accuracy on the test data. This will require combining what was done in questions `2` - `4`.\n",
    "\n",
    "Use the cells below to explore how well SVD works towards making predictions for recommendations on the test data.  "
   ]
  },
  {
   "cell_type": "code",
   "execution_count": null,
   "metadata": {
    "collapsed": true
   },
   "outputs": [],
   "source": [
    "# fit SVD on the user_item_train matrix\n",
    "u_train, s_train, vt_train = # fit svd similar to above then use the cells below"
   ]
  },
  {
   "cell_type": "code",
   "execution_count": null,
   "metadata": {
    "collapsed": true
   },
   "outputs": [],
   "source": [
    "# Use these cells to see how well you can use the training \n",
    "# decomposition to predict on test data"
   ]
  },
  {
   "cell_type": "code",
   "execution_count": null,
   "metadata": {
    "collapsed": true
   },
   "outputs": [],
   "source": []
  },
  {
   "cell_type": "code",
   "execution_count": null,
   "metadata": {
    "collapsed": true
   },
   "outputs": [],
   "source": []
  },
  {
   "cell_type": "markdown",
   "metadata": {
    "collapsed": true
   },
   "source": [
    "`6.` Use the cell below to comment on the results you found in the previous question. Given the circumstances of your results, discuss what you might do to determine if the recommendations you make with any of the above recommendation systems are an improvement to how users currently find articles? "
   ]
  },
  {
   "cell_type": "markdown",
   "metadata": {},
   "source": [
    "**Your response here.**"
   ]
  },
  {
   "cell_type": "markdown",
   "metadata": {
    "collapsed": true
   },
   "source": [
    "<a id='conclusions'></a>\n",
    "### Extras\n",
    "Using your workbook, you could now save your recommendations for each user, develop a class to make new predictions and update your results, and make a flask app to deploy your results.  These tasks are beyond what is required for this project.  However, from what you learned in the lessons, you certainly capable of taking these tasks on to improve upon your work here!\n",
    "\n",
    "\n",
    "## Conclusion\n",
    "\n",
    "> Congratulations!  You have reached the end of the Recommendations with IBM project! \n",
    "\n",
    "> **Tip**: Once you are satisfied with your work here, check over your report to make sure that it is satisfies all the areas of the [rubric](https://review.udacity.com/#!/rubrics/2322/view). You should also probably remove all of the \"Tips\" like this one so that the presentation is as polished as possible.\n",
    "\n",
    "\n",
    "## Directions to Submit\n",
    "\n",
    "> Before you submit your project, you need to create a .html or .pdf version of this notebook in the workspace here. To do that, run the code cell below. If it worked correctly, you should get a return code of 0, and you should see the generated .html file in the workspace directory (click on the orange Jupyter icon in the upper left).\n",
    "\n",
    "> Alternatively, you can download this report as .html via the **File** > **Download as** submenu, and then manually upload it into the workspace directory by clicking on the orange Jupyter icon in the upper left, then using the Upload button.\n",
    "\n",
    "> Once you've done this, you can submit your project by clicking on the \"Submit Project\" button in the lower right here. This will create and submit a zip file with this .ipynb doc and the .html or .pdf version you created. Congratulations! "
   ]
  },
  {
   "cell_type": "code",
   "execution_count": null,
   "metadata": {
    "collapsed": true
   },
   "outputs": [],
   "source": [
    "from subprocess import call\n",
    "call(['python', '-m', 'nbconvert', 'Recommendations_with_IBM.ipynb'])"
   ]
  }
 ],
 "metadata": {
  "kernelspec": {
   "display_name": "Python 3",
   "language": "python",
   "name": "python3"
  },
  "language_info": {
   "codemirror_mode": {
    "name": "ipython",
    "version": 3
   },
   "file_extension": ".py",
   "mimetype": "text/x-python",
   "name": "python",
   "nbconvert_exporter": "python",
   "pygments_lexer": "ipython3",
   "version": "3.6.8"
  }
 },
 "nbformat": 4,
 "nbformat_minor": 2
}
